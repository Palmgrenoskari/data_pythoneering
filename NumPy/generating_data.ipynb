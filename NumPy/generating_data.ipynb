{
 "cells": [
  {
   "cell_type": "code",
   "execution_count": 2,
   "metadata": {},
   "outputs": [],
   "source": [
    "import numpy as np"
   ]
  },
  {
   "cell_type": "markdown",
   "metadata": {},
   "source": [
    "# np.empty(), np.zeros(), np.ones(), np.full()"
   ]
  },
  {
   "cell_type": "code",
   "execution_count": 3,
   "metadata": {},
   "outputs": [
    {
     "data": {
      "text/plain": [
       "array([[0., 0., 0.],\n",
       "       [0., 0., 0.]])"
      ]
     },
     "execution_count": 3,
     "metadata": {},
     "output_type": "execute_result"
    }
   ],
   "source": [
    "# empty ndarray, give shape\n",
    "arr_empty = np.empty(shape = (2,3))\n",
    "arr_empty"
   ]
  },
  {
   "cell_type": "code",
   "execution_count": 4,
   "metadata": {},
   "outputs": [
    {
     "data": {
      "text/plain": [
       "array([[0, 0, 0],\n",
       "       [0, 0, 0]], dtype=int8)"
      ]
     },
     "execution_count": 4,
     "metadata": {},
     "output_type": "execute_result"
    }
   ],
   "source": [
    "# ndarray with zeros, give shape, can also specify datatype\n",
    "arr_zeros = np.zeros(shape = (2,3),dtype = np.int8)\n",
    "arr_zeros"
   ]
  },
  {
   "cell_type": "code",
   "execution_count": 5,
   "metadata": {},
   "outputs": [
    {
     "data": {
      "text/plain": [
       "array([[1, 1, 1],\n",
       "       [1, 1, 1]], dtype=int8)"
      ]
     },
     "execution_count": 5,
     "metadata": {},
     "output_type": "execute_result"
    }
   ],
   "source": [
    "arr_ones = np.ones(shape = (2,3), dtype = np.int8)\n",
    "arr_ones"
   ]
  },
  {
   "cell_type": "code",
   "execution_count": 6,
   "metadata": {},
   "outputs": [
    {
     "data": {
      "text/plain": [
       "array([[2, 2, 2],\n",
       "       [2, 2, 2]])"
      ]
     },
     "execution_count": 6,
     "metadata": {},
     "output_type": "execute_result"
    }
   ],
   "source": [
    "# ndarray with fill_value parameter\n",
    "arr_full = np.full(shape = (2,3), fill_value = 2)\n",
    "arr_full"
   ]
  },
  {
   "cell_type": "code",
   "execution_count": 7,
   "metadata": {},
   "outputs": [
    {
     "data": {
      "text/plain": [
       "array([[ 1,  0,  9,  2,  2],\n",
       "       [ 3, 23,  4,  5,  1],\n",
       "       [ 0,  2,  3,  4,  1]])"
      ]
     },
     "execution_count": 7,
     "metadata": {},
     "output_type": "execute_result"
    }
   ],
   "source": [
    "mat_a = np.array([[1,0,9,2,2],[3,23,4,5,1], [0,2,3,4,1]])\n",
    "mat_a"
   ]
  },
  {
   "cell_type": "markdown",
   "metadata": {},
   "source": [
    "# _like"
   ]
  },
  {
   "cell_type": "code",
   "execution_count": 8,
   "metadata": {},
   "outputs": [
    {
     "data": {
      "text/plain": [
       "array([[      0,       0,       0,       0,       0],\n",
       "       [      0,       0,       0,       0,       0],\n",
       "       [    916,       0,       0, 7077985,       0]])"
      ]
     },
     "execution_count": 8,
     "metadata": {},
     "output_type": "execute_result"
    }
   ],
   "source": [
    "# Always same shape as given argument\n",
    "arr_emp_like = np.empty_like(mat_a)\n",
    "arr_emp_like"
   ]
  },
  {
   "cell_type": "code",
   "execution_count": 9,
   "metadata": {},
   "outputs": [
    {
     "data": {
      "text/plain": [
       "array([[0, 0, 0, 0, 0],\n",
       "       [0, 0, 0, 0, 0],\n",
       "       [0, 0, 0, 0, 0]])"
      ]
     },
     "execution_count": 9,
     "metadata": {},
     "output_type": "execute_result"
    }
   ],
   "source": [
    "# Same but with zeros\n",
    "arr_zeros_like = np.zeros_like(mat_a)\n",
    "arr_zeros_like"
   ]
  },
  {
   "cell_type": "code",
   "execution_count": 10,
   "metadata": {},
   "outputs": [
    {
     "data": {
      "text/plain": [
       "array([[123, 123, 123, 123, 123],\n",
       "       [123, 123, 123, 123, 123],\n",
       "       [123, 123, 123, 123, 123]])"
      ]
     },
     "execution_count": 10,
     "metadata": {},
     "output_type": "execute_result"
    }
   ],
   "source": [
    "# Works the same for np.ones_like or np.full_like\n",
    "arr_full_like = np.full_like(mat_a, fill_value = 123)\n",
    "arr_full_like"
   ]
  },
  {
   "cell_type": "markdown",
   "metadata": {},
   "source": [
    "# np.arange()"
   ]
  },
  {
   "cell_type": "code",
   "execution_count": 11,
   "metadata": {},
   "outputs": [
    {
     "data": {
      "text/plain": [
       "array([ 0,  1,  2,  3,  4,  5,  6,  7,  8,  9, 10, 11, 12, 13, 14, 15, 16,\n",
       "       17, 18, 19, 20, 21, 22, 23, 24, 25, 26, 27, 28, 29])"
      ]
     },
     "execution_count": 11,
     "metadata": {},
     "output_type": "execute_result"
    }
   ],
   "source": [
    "# range(0,30) - 1-D\n",
    "array_rng = np.arange(30)\n",
    "array_rng"
   ]
  },
  {
   "cell_type": "code",
   "execution_count": 12,
   "metadata": {},
   "outputs": [
    {
     "data": {
      "text/plain": [
       "array([ 0,  1,  2,  3,  4,  5,  6,  7,  8,  9, 10, 11, 12, 13, 14, 15, 16,\n",
       "       17, 18, 19, 20, 21, 22, 23, 24, 25, 26, 27, 28, 29])"
      ]
     },
     "execution_count": 12,
     "metadata": {},
     "output_type": "execute_result"
    }
   ],
   "source": [
    "# Samesame\n",
    "array_rng = np.arange(start = 0, stop = 30)\n",
    "array_rng"
   ]
  },
  {
   "cell_type": "code",
   "execution_count": 13,
   "metadata": {},
   "outputs": [
    {
     "data": {
      "text/plain": [
       "array([ 0.  ,  3.33,  6.66,  9.99, 13.32, 16.66, 19.98, 23.31, 26.64,\n",
       "       29.97], dtype=float16)"
      ]
     },
     "execution_count": 13,
     "metadata": {},
     "output_type": "execute_result"
    }
   ],
   "source": [
    "# Step and dtype added\n",
    "array_rng = np.arange(start = 0, stop = 30, step = 3.33, dtype = np.float16)\n",
    "array_rng"
   ]
  },
  {
   "cell_type": "markdown",
   "metadata": {},
   "source": [
    "# numpy random"
   ]
  },
  {
   "cell_type": "code",
   "execution_count": 14,
   "metadata": {},
   "outputs": [],
   "source": [
    "from numpy.random import Generator as gen\n",
    "from numpy.random import PCG64 as pcg"
   ]
  },
  {
   "cell_type": "code",
   "execution_count": 15,
   "metadata": {},
   "outputs": [
    {
     "data": {
      "text/plain": [
       "array([[ 1.1770244 , -0.39702607,  0.82235747,  1.28537216,  0.73971251],\n",
       "       [-0.30287325,  0.51006118, -0.75981984, -0.31170982, -0.33178436],\n",
       "       [ 2.0062997 ,  0.99201617, -0.21114043,  0.06851696, -1.3967579 ],\n",
       "       [ 1.65717886,  2.49797739, -0.38878889, -1.71850088,  0.00341602],\n",
       "       [ 0.78598567, -0.69248351,  1.03640112, -0.41437904, -0.16411696]])"
      ]
     },
     "execution_count": 15,
     "metadata": {},
     "output_type": "execute_result"
    }
   ],
   "source": [
    "# Random values from normal distribution\n",
    "array_RG = gen(pcg())\n",
    "array_RG.normal(size = (5,5))"
   ]
  },
  {
   "cell_type": "code",
   "execution_count": 16,
   "metadata": {},
   "outputs": [
    {
     "data": {
      "text/plain": [
       "array([[-0.13640899,  0.09414431, -0.06300442,  1.05391641, -0.6866818 ],\n",
       "       [-0.50922173, -0.7999526 ,  0.73041825,  0.08825439, -2.1177576 ],\n",
       "       [ 0.65526774, -0.48095012, -0.5519114 , -0.58578662, -0.98257896],\n",
       "       [ 1.12378166, -1.30984316, -0.04703774,  0.955272  ,  0.26071745],\n",
       "       [-0.20023668, -1.50172484, -1.4929163 ,  0.96535084,  1.18694633]])"
      ]
     },
     "execution_count": 16,
     "metadata": {},
     "output_type": "execute_result"
    }
   ],
   "source": [
    "# With seed\n",
    "array_RG = gen(pcg(seed = 365))\n",
    "array_RG.normal(size = (5,5))"
   ]
  },
  {
   "cell_type": "code",
   "execution_count": 17,
   "metadata": {},
   "outputs": [
    {
     "data": {
      "text/plain": [
       "array([[9, 3, 6, 4, 2],\n",
       "       [6, 9, 2, 3, 2],\n",
       "       [1, 5, 4, 4, 1],\n",
       "       [3, 4, 8, 1, 6],\n",
       "       [5, 0, 5, 7, 7]], dtype=int64)"
      ]
     },
     "execution_count": 17,
     "metadata": {},
     "output_type": "execute_result"
    }
   ],
   "source": [
    "array_RG.integers(10, size = (5,5))"
   ]
  },
  {
   "cell_type": "code",
   "execution_count": 18,
   "metadata": {},
   "outputs": [
    {
     "data": {
      "text/plain": [
       "array([[184, 234,  59, 113, 426],\n",
       "       [165, 172, 239, 109, 458],\n",
       "       [174, 188, 494, 481, 325],\n",
       "       [158, 170, 259, 309, 214],\n",
       "       [184, 467,  33, 352, 454]], dtype=int64)"
      ]
     },
     "execution_count": 18,
     "metadata": {},
     "output_type": "execute_result"
    }
   ],
   "source": [
    "# Integers between low and high\n",
    "array_RG.integers(low = 10, high = 500, size = (5,5))"
   ]
  },
  {
   "cell_type": "code",
   "execution_count": 19,
   "metadata": {},
   "outputs": [
    {
     "data": {
      "text/plain": [
       "array([[2, 3, 2, 1, 5],\n",
       "       [5, 1, 5, 1, 5],\n",
       "       [4, 4, 5, 1, 5],\n",
       "       [2, 5, 1, 3, 2],\n",
       "       [3, 1, 5, 2, 4]])"
      ]
     },
     "execution_count": 19,
     "metadata": {},
     "output_type": "execute_result"
    }
   ],
   "source": [
    "# Choose from numbers\n",
    "array_RG.choice([1,2,3,4,5], size = (5,5))"
   ]
  },
  {
   "cell_type": "code",
   "execution_count": 20,
   "metadata": {},
   "outputs": [
    {
     "data": {
      "text/plain": [
       "array([[3, 3, 5, 1, 5],\n",
       "       [3, 5, 2, 4, 1],\n",
       "       [5, 3, 1, 3, 1],\n",
       "       [2, 5, 5, 3, 5],\n",
       "       [2, 5, 2, 4, 4]])"
      ]
     },
     "execution_count": 20,
     "metadata": {},
     "output_type": "execute_result"
    }
   ],
   "source": [
    "# Add probabiities\n",
    "array_RG.choice([1,2,3,4,5], p = [0.1,0.2,0.3,0.2,0.2], size = (5,5))"
   ]
  },
  {
   "cell_type": "code",
   "execution_count": 21,
   "metadata": {},
   "outputs": [
    {
     "data": {
      "text/plain": [
       "array([[0, 2, 2, 0, 0],\n",
       "       [1, 0, 0, 1, 2],\n",
       "       [0, 1, 0, 0, 0],\n",
       "       [0, 3, 1, 0, 0],\n",
       "       [1, 2, 0, 0, 0]], dtype=int64)"
      ]
     },
     "execution_count": 21,
     "metadata": {},
     "output_type": "execute_result"
    }
   ],
   "source": [
    "# Poisson lambda 1 default\n",
    "array_RG.poisson(size = (5,5))"
   ]
  },
  {
   "cell_type": "code",
   "execution_count": 22,
   "metadata": {},
   "outputs": [
    {
     "data": {
      "text/plain": [
       "array([[13, 10, 15, 13, 14],\n",
       "       [12, 13, 24, 16, 17],\n",
       "       [16, 11, 21, 13,  7],\n",
       "       [12, 14, 19, 16, 15],\n",
       "       [13, 10, 11, 10, 12]], dtype=int64)"
      ]
     },
     "execution_count": 22,
     "metadata": {},
     "output_type": "execute_result"
    }
   ],
   "source": [
    "# Poisson lam parameter\n",
    "array_RG.poisson(lam = 15, size = (5,5))"
   ]
  },
  {
   "cell_type": "code",
   "execution_count": 23,
   "metadata": {},
   "outputs": [
    {
     "data": {
      "text/plain": [
       "array([[46, 37, 36, 39, 39],\n",
       "       [33, 41, 50, 36, 47],\n",
       "       [35, 42, 40, 47, 47],\n",
       "       [45, 39, 31, 41, 45],\n",
       "       [44, 48, 37, 48, 45]], dtype=int64)"
      ]
     },
     "execution_count": 23,
     "metadata": {},
     "output_type": "execute_result"
    }
   ],
   "source": [
    "# Binomial distribution\n",
    "array_RG.binomial(n = 100, p = 0.4, size = (5,5))"
   ]
  },
  {
   "cell_type": "code",
   "execution_count": 24,
   "metadata": {},
   "outputs": [
    {
     "data": {
      "text/plain": [
       "array([[ 7.04935067,  7.28449296,  8.03813115,  9.8544642 ,  6.5749049 ],\n",
       "       [ 7.99758016,  9.65949251,  7.85339321,  8.85294979,  7.64202919],\n",
       "       [ 7.82979652, 12.23124706,  8.48659983,  7.59351125,  8.98081076],\n",
       "       [ 8.10472035,  8.52410285,  5.35782964,  8.34798589,  8.95811201],\n",
       "       [ 9.47469499,  9.95293094, 12.00789188, 10.92480577,  8.96692009]])"
      ]
     },
     "execution_count": 24,
     "metadata": {},
     "output_type": "execute_result"
    }
   ],
   "source": [
    "# Logistic, loc = mean, scale = standard dev\n",
    "# Not the same as normal distribution though if you give (0,1) as arguments\n",
    "# Logistic distribution has higher probability for extreme values, it has heavier tails\n",
    "array_RG.logistic(loc = 9, scale = 1.2, size = (5,5))"
   ]
  },
  {
   "cell_type": "code",
   "execution_count": 25,
   "metadata": {},
   "outputs": [],
   "source": [
    "arr_norm1 = array_RG.normal(loc = 2, scale = 3, size = (1000))\n",
    "arr_norm2 = array_RG.normal(loc = 7, scale = 2, size = (1000))\n",
    "arr_log1 = array_RG.logistic(loc = 11, scale = 3, size = (1000))\n",
    "arr_exp1 = array_RG.exponential(scale = 4, size = (1000))\n",
    "arr_geo1 = array_RG.geometric(p = 0.7, size = (1000))"
   ]
  },
  {
   "cell_type": "code",
   "execution_count": 26,
   "metadata": {},
   "outputs": [
    {
     "data": {
      "text/plain": [
       "array([[ 1.74052364,  0.17081592,  2.36441993, ..., -4.82938818,\n",
       "         1.5447017 ,  0.09321197],\n",
       "       [ 7.39877006,  6.55147891,  8.39100841, ...,  7.0345628 ,\n",
       "         8.3348056 ,  7.76153741],\n",
       "       [10.64261693, 13.98297279, 22.34603051, ..., 13.1001714 ,\n",
       "         6.69012614, 15.03781235],\n",
       "       [ 0.39315117,  1.26537692,  2.09902111, ...,  2.98181672,\n",
       "         4.67723352,  4.35920466],\n",
       "       [ 1.        ,  1.        ,  1.        , ...,  3.        ,\n",
       "         2.        ,  3.        ]])"
      ]
     },
     "execution_count": 26,
     "metadata": {},
     "output_type": "execute_result"
    }
   ],
   "source": [
    "random_test_data = np.array([arr_norm1, arr_norm2, arr_log1, arr_exp1, arr_geo1])\n",
    "random_test_data"
   ]
  },
  {
   "cell_type": "code",
   "execution_count": 27,
   "metadata": {},
   "outputs": [
    {
     "data": {
      "text/plain": [
       "(5, 1000)"
      ]
     },
     "execution_count": 27,
     "metadata": {},
     "output_type": "execute_result"
    }
   ],
   "source": [
    "random_test_data.shape"
   ]
  },
  {
   "cell_type": "code",
   "execution_count": 28,
   "metadata": {},
   "outputs": [
    {
     "data": {
      "text/plain": [
       "array([[ 1.74052364,  7.39877006, 10.64261693,  0.39315117,  1.        ],\n",
       "       [ 0.17081592,  6.55147891, 13.98297279,  1.26537692,  1.        ],\n",
       "       [ 2.36441993,  8.39100841, 22.34603051,  2.09902111,  1.        ],\n",
       "       ...,\n",
       "       [-4.82938818,  7.0345628 , 13.1001714 ,  2.98181672,  3.        ],\n",
       "       [ 1.5447017 ,  8.3348056 ,  6.69012614,  4.67723352,  2.        ],\n",
       "       [ 0.09321197,  7.76153741, 15.03781235,  4.35920466,  3.        ]])"
      ]
     },
     "execution_count": 28,
     "metadata": {},
     "output_type": "execute_result"
    }
   ],
   "source": [
    "random_test_data = random_test_data.transpose()\n",
    "random_test_data"
   ]
  },
  {
   "cell_type": "code",
   "execution_count": 29,
   "metadata": {},
   "outputs": [
    {
     "data": {
      "text/plain": [
       "(1000, 5)"
      ]
     },
     "execution_count": 29,
     "metadata": {},
     "output_type": "execute_result"
    }
   ],
   "source": [
    "random_test_data.shape"
   ]
  },
  {
   "cell_type": "markdown",
   "metadata": {},
   "source": [
    "# Export to CSV"
   ]
  },
  {
   "cell_type": "code",
   "execution_count": 30,
   "metadata": {},
   "outputs": [],
   "source": [
    "np.savetxt(\"data/random_test_from_NumPy.csv\", random_test_data, fmt = \"%s\", delimiter = ',')"
   ]
  },
  {
   "cell_type": "markdown",
   "metadata": {},
   "source": [
    "# Import back"
   ]
  },
  {
   "cell_type": "code",
   "execution_count": 31,
   "metadata": {},
   "outputs": [
    {
     "data": {
      "text/plain": [
       "array([[ 1.74052364,  7.39877006, 10.64261693,  0.39315117,  1.        ],\n",
       "       [ 0.17081592,  6.55147891, 13.98297279,  1.26537692,  1.        ],\n",
       "       [ 2.36441993,  8.39100841, 22.34603051,  2.09902111,  1.        ],\n",
       "       ...,\n",
       "       [-4.82938818,  7.0345628 , 13.1001714 ,  2.98181672,  3.        ],\n",
       "       [ 1.5447017 ,  8.3348056 ,  6.69012614,  4.67723352,  2.        ],\n",
       "       [ 0.09321197,  7.76153741, 15.03781235,  4.35920466,  3.        ]])"
      ]
     },
     "execution_count": 31,
     "metadata": {},
     "output_type": "execute_result"
    }
   ],
   "source": [
    "np.genfromtxt(\"data/random_test_from_NumPy.csv\", delimiter = ',')"
   ]
  },
  {
   "cell_type": "code",
   "execution_count": 32,
   "metadata": {},
   "outputs": [
    {
     "data": {
      "text/plain": [
       "(500, 3)"
      ]
     },
     "execution_count": 32,
     "metadata": {},
     "output_type": "execute_result"
    }
   ],
   "source": [
    "array_RG = gen(pcg(seed = 365))\n",
    "\n",
    "arr_1 = array_RG.normal(loc = 3, scale = 2, size = (500))\n",
    "arr_2 = array_RG.exponential(scale = 5, size = (500))\n",
    "arr_3 = array_RG.logistic(loc = 10, scale = 4, size = (500))\n",
    "\n",
    "array_full = np.array([arr_1,arr_2,arr_3]).transpose()\n",
    "array_full.shape\n"
   ]
  },
  {
   "cell_type": "code",
   "execution_count": 33,
   "metadata": {},
   "outputs": [
    {
     "data": {
      "text/plain": [
       "array([[ 2000.,    40.,   365.,  3121.,  4241., 13621.],\n",
       "       [ 2000.,    40.,   365.,  3061.,  4171., 15041.],\n",
       "       [ 1000.,    40.,   365.,  2160.,  3280., 15340.],\n",
       "       ...,\n",
       "       [ 2000.,    40.,   365.,  4201.,  5001., 16600.],\n",
       "       [ 1000.,    40.,   365.,  2080.,  3320., 15600.],\n",
       "       [ 2000.,    40.,   365.,  4601.,  4601., 16600.]])"
      ]
     },
     "execution_count": 33,
     "metadata": {},
     "output_type": "execute_result"
    }
   ],
   "source": [
    "# np.loadtxt\n",
    "lending_co_data_numeric_1 = np.loadtxt(\"data/Lending-Company-Numeric-Data.csv\", delimiter=',')\n",
    "lending_co_data_numeric_1"
   ]
  },
  {
   "cell_type": "code",
   "execution_count": 34,
   "metadata": {},
   "outputs": [
    {
     "data": {
      "text/plain": [
       "array([[ 2000.,    40.,   365.,  3121.,  4241., 13621.],\n",
       "       [ 2000.,    40.,   365.,  3061.,  4171., 15041.],\n",
       "       [ 1000.,    40.,   365.,  2160.,  3280., 15340.],\n",
       "       ...,\n",
       "       [ 2000.,    40.,   365.,  4201.,  5001., 16600.],\n",
       "       [ 1000.,    40.,   365.,  2080.,  3320., 15600.],\n",
       "       [ 2000.,    40.,   365.,  4601.,  4601., 16600.]])"
      ]
     },
     "execution_count": 34,
     "metadata": {},
     "output_type": "execute_result"
    }
   ],
   "source": [
    "# np.genfromtxt\n",
    "lending_co_data_numeric_2 = np.genfromtxt(\"data/Lending-Company-Numeric-Data.csv\", delimiter=',')\n",
    "lending_co_data_numeric_2"
   ]
  },
  {
   "cell_type": "code",
   "execution_count": 35,
   "metadata": {},
   "outputs": [
    {
     "name": "stdout",
     "output_type": "stream",
     "text": [
      "[[ 2000.    40.   365.  3121.  4241. 13621.]\n",
      " [ 2000.    40.   365.  3061.  4171. 15041.]\n",
      " [ 1000.    40.   365.  2160.  3280. 15340.]\n",
      " ...\n",
      " [   nan    40.   365.  4201.  5001. 16600.]\n",
      " [ 1000.    40.   365.  2080.  3320. 15600.]\n",
      " [ 2000.    40.   365.  4601.  4601. 16600.]]\n",
      "\n",
      "-----------------------------------------------------\n",
      "\n",
      "[['2000' '40' '365' '3121' '4241' '13621']\n",
      " ['2000' '40' '365' '3061' '4171' '15041']\n",
      " ['1000' '40' '365' '2160' '3280' '15340']\n",
      " ...\n",
      " ['' '40' '365' '4201' '5001' '16600']\n",
      " ['1000' '40' '365' '2080' '3320' '15600']\n",
      " ['2000' '40' '365' '4601' '4601' '16600']]\n"
     ]
    }
   ],
   "source": [
    "# Gen from text doesnt require dtype specification\n",
    "lending_co_data_numeric_NAN = np.genfromtxt(\"data/Lending-Company-Numeric-Data-NAN.csv\", delimiter=';')\n",
    "print(lending_co_data_numeric_NAN)\n",
    "\n",
    "# OR\n",
    "print(\"\\n-----------------------------------------------------\\n\")\n",
    "\n",
    "# Loadtxt requires dtype specification if there are more than 1 dtype, for example numeric and string\n",
    "lending_co_data_numeric_NAN = np.loadtxt(\"data/Lending-Company-Numeric-Data-NAN.csv\", delimiter=';', dtype = str)\n",
    "print(lending_co_data_numeric_NAN)"
   ]
  },
  {
   "cell_type": "markdown",
   "metadata": {},
   "source": [
    "# partial cleaning while importing"
   ]
  },
  {
   "cell_type": "code",
   "execution_count": 40,
   "metadata": {},
   "outputs": [
    {
     "data": {
      "text/plain": [
       "array([[ 1000.,    40., 15340.],\n",
       "       [ 2000.,    40., 15321.],\n",
       "       [ 2000.,    50., 13720.],\n",
       "       ...,\n",
       "       [ 2000.,    40., 16600.],\n",
       "       [ 2000.,    40., 16600.],\n",
       "       [   nan,    40., 16600.]])"
      ]
     },
     "execution_count": 40,
     "metadata": {},
     "output_type": "execute_result"
    }
   ],
   "source": [
    "# skip_header - skip n rows from too\n",
    "# skip_footer - skip n rows from bottom\n",
    "# usecols - what columns to include\n",
    "\n",
    "lending_co_data_numeric_NAN = np.genfromtxt(\"data/Lending-Company-Numeric-Data-NAN.csv\",\n",
    "                                            delimiter=';',\n",
    "                                            skip_header = 2,\n",
    "                                            skip_footer = 2,\n",
    "                                            usecols = (0,1,5))\n",
    "lending_co_data_numeric_NAN"
   ]
  },
  {
   "cell_type": "code",
   "execution_count": 41,
   "metadata": {},
   "outputs": [],
   "source": [
    "# unpack = True - each column into its own array\n",
    "lending_co_data_0, lending_co_data_1, lending_co_data_5 = np.genfromtxt(\"data/Lending-Company-Numeric-Data-NAN.csv\",\n",
    "                                            delimiter=';',\n",
    "                                            skip_header = 2,\n",
    "                                            skip_footer = 2,\n",
    "                                            usecols = (0,1,5),\n",
    "                                            unpack = True)"
   ]
  },
  {
   "cell_type": "code",
   "execution_count": 42,
   "metadata": {},
   "outputs": [
    {
     "name": "stdout",
     "output_type": "stream",
     "text": [
      "[1000. 2000. 2000. ... 2000. 2000.   nan]\n",
      "[40. 40. 50. ... 40. 40. 40.]\n",
      "[15340. 15321. 13720. ... 16600. 16600. 16600.]\n"
     ]
    }
   ],
   "source": [
    "print(lending_co_data_0)\n",
    "print(lending_co_data_1)\n",
    "print(lending_co_data_5)"
   ]
  }
 ],
 "metadata": {
  "kernelspec": {
   "display_name": "Python 3",
   "language": "python",
   "name": "python3"
  },
  "language_info": {
   "codemirror_mode": {
    "name": "ipython",
    "version": 3
   },
   "file_extension": ".py",
   "mimetype": "text/x-python",
   "name": "python",
   "nbconvert_exporter": "python",
   "pygments_lexer": "ipython3",
   "version": "3.10.10"
  },
  "orig_nbformat": 4
 },
 "nbformat": 4,
 "nbformat_minor": 2
}
