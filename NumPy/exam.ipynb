{
 "cells": [
  {
   "cell_type": "code",
   "execution_count": 22,
   "metadata": {},
   "outputs": [],
   "source": [
    "import numpy as np"
   ]
  },
  {
   "cell_type": "code",
   "execution_count": 23,
   "metadata": {},
   "outputs": [],
   "source": [
    "test_array = np.array([[2,11,1,9],[5,6,7,8]])"
   ]
  },
  {
   "cell_type": "code",
   "execution_count": 24,
   "metadata": {},
   "outputs": [
    {
     "data": {
      "text/plain": [
       "array([[11,  9,  2,  1],\n",
       "       [ 8,  7,  6,  5]])"
      ]
     },
     "execution_count": 24,
     "metadata": {},
     "output_type": "execute_result"
    }
   ],
   "source": [
    "# test_array.sort(axis = 0)\n",
    "-np.sort(-test_array, axis = -1)"
   ]
  },
  {
   "cell_type": "code",
   "execution_count": 25,
   "metadata": {},
   "outputs": [
    {
     "data": {
      "text/plain": [
       "array([[ 2, 11,  1,  9],\n",
       "       [ 5,  6,  7,  8]])"
      ]
     },
     "execution_count": 25,
     "metadata": {},
     "output_type": "execute_result"
    }
   ],
   "source": [
    "test_array"
   ]
  },
  {
   "cell_type": "code",
   "execution_count": 30,
   "metadata": {},
   "outputs": [
    {
     "data": {
      "text/plain": [
       "(200, 20)"
      ]
     },
     "execution_count": 30,
     "metadata": {},
     "output_type": "execute_result"
    }
   ],
   "source": [
    "data = np.genfromtxt(\"Real_estate(cleaned).csv\",\n",
    "                     delimiter = ';',\n",
    "                     skip_header=1)\n",
    "data.shape"
   ]
  },
  {
   "cell_type": "code",
   "execution_count": 35,
   "metadata": {},
   "outputs": [
    {
     "name": "stderr",
     "output_type": "stream",
     "text": [
      "C:\\Users\\Palmg\\AppData\\Local\\Temp\\ipykernel_20652\\3615647074.py:1: RuntimeWarning: Mean of empty slice\n",
      "  temp_mean = np.nanmean(data, axis = 0)\n"
     ]
    },
    {
     "data": {
      "text/plain": [
       "array([           nan,            nan,            nan,            nan,\n",
       "                  nan, 9.03787850e+02,            nan,            nan,\n",
       "                  nan,            nan,            nan,            nan,\n",
       "                  nan,            nan,            nan,            nan,\n",
       "       3.60000000e+00,            nan,            nan, 2.70777631e+05])"
      ]
     },
     "execution_count": 35,
     "metadata": {},
     "output_type": "execute_result"
    }
   ],
   "source": [
    "temp_mean = np.nanmean(data, axis = 0)\n",
    "temp_mean"
   ]
  },
  {
   "cell_type": "code",
   "execution_count": 34,
   "metadata": {},
   "outputs": [
    {
     "data": {
      "text/plain": [
       "array([ 0,  1,  2,  3,  4,  6,  7,  8,  9, 10, 11, 12, 13, 14, 15, 17, 18],\n",
       "      dtype=int64)"
      ]
     },
     "execution_count": 34,
     "metadata": {},
     "output_type": "execute_result"
    }
   ],
   "source": [
    "columns_str = np.argwhere(np.isnan(temp_mean)).squeeze()\n",
    "columns_str"
   ]
  },
  {
   "cell_type": "code",
   "execution_count": 37,
   "metadata": {},
   "outputs": [],
   "source": [
    "columns_num = np.array([5,16,19])"
   ]
  },
  {
   "cell_type": "code",
   "execution_count": 38,
   "metadata": {},
   "outputs": [
    {
     "data": {
      "text/plain": [
       "532878.38"
      ]
     },
     "execution_count": 38,
     "metadata": {},
     "output_type": "execute_result"
    }
   ],
   "source": [
    "temp_fill = np.nanmax(data) + 1\n",
    "temp_fill"
   ]
  },
  {
   "cell_type": "code",
   "execution_count": null,
   "metadata": {},
   "outputs": [],
   "source": [
    "data_num = np.genfromtxt('Real_estate(cleaned).csv',\n",
    "                         delimiter = ';',\n",
    "                         skip_header=1,\n",
    "                         usecols=columns_num,\n",
    "                         filling_values=temp_fill\n",
    "                         )"
   ]
  },
  {
   "cell_type": "markdown",
   "metadata": {},
   "source": [
    "2."
   ]
  },
  {
   "cell_type": "code",
   "execution_count": 39,
   "metadata": {},
   "outputs": [
    {
     "data": {
      "text/plain": [
       "array([[16, 12],\n",
       "       [34, 45]])"
      ]
     },
     "execution_count": 39,
     "metadata": {},
     "output_type": "execute_result"
    }
   ],
   "source": [
    "mat_A = np.array([[16,12],[34,45]])\n",
    "mat_A"
   ]
  },
  {
   "cell_type": "code",
   "execution_count": 40,
   "metadata": {},
   "outputs": [
    {
     "data": {
      "text/plain": [
       "(array([[0., 1.],\n",
       "        [1., 0.]]),\n",
       " array([12., 14., 16.]),\n",
       " array([34. , 39.5, 45. ]))"
      ]
     },
     "execution_count": 40,
     "metadata": {},
     "output_type": "execute_result"
    }
   ],
   "source": [
    "np.histogram2d(mat_A[0], mat_A[1], bins = 2)"
   ]
  },
  {
   "cell_type": "code",
   "execution_count": 41,
   "metadata": {},
   "outputs": [
    {
     "data": {
      "text/plain": [
       "3405"
      ]
     },
     "execution_count": 41,
     "metadata": {},
     "output_type": "execute_result"
    }
   ],
   "source": [
    "np.isnan(data).sum()"
   ]
  },
  {
   "cell_type": "code",
   "execution_count": 42,
   "metadata": {},
   "outputs": [
    {
     "data": {
      "text/plain": [
       "array([ 5, 16, 19], dtype=int64)"
      ]
     },
     "execution_count": 42,
     "metadata": {},
     "output_type": "execute_result"
    }
   ],
   "source": [
    "columns_num = np.argwhere(np.isnan(temp_mean) == False).squeeze()\n",
    "columns_num"
   ]
  },
  {
   "cell_type": "markdown",
   "metadata": {},
   "source": [
    "3."
   ]
  },
  {
   "cell_type": "code",
   "execution_count": 45,
   "metadata": {},
   "outputs": [
    {
     "data": {
      "text/plain": [
       "array([[12,  3,  4],\n",
       "       [ 9, 10, -3],\n",
       "       [ 8, 19, 25]])"
      ]
     },
     "execution_count": 45,
     "metadata": {},
     "output_type": "execute_result"
    }
   ],
   "source": [
    "arr = np.array([[12,3,4],[9,10,-3],[8,19,25]])\n",
    "arr"
   ]
  },
  {
   "cell_type": "code",
   "execution_count": 44,
   "metadata": {},
   "outputs": [
    {
     "data": {
      "text/plain": [
       "array([ 4, 16, 28])"
      ]
     },
     "execution_count": 44,
     "metadata": {},
     "output_type": "execute_result"
    }
   ],
   "source": [
    "np.ptp(arr, axis = 0)"
   ]
  },
  {
   "cell_type": "code",
   "execution_count": 47,
   "metadata": {},
   "outputs": [],
   "source": [
    "heights = np.array([\n",
    "    [162,202,175,160],\n",
    "    [200,185,193,180],\n",
    "    [189,181,172,168],\n",
    "    [183,195,199,167]\n",
    "])"
   ]
  },
  {
   "cell_type": "code",
   "execution_count": 49,
   "metadata": {},
   "outputs": [
    {
     "data": {
      "text/plain": [
       "193.5"
      ]
     },
     "execution_count": 49,
     "metadata": {},
     "output_type": "execute_result"
    }
   ],
   "source": [
    "np.percentile(heights, 75)"
   ]
  },
  {
   "cell_type": "code",
   "execution_count": 68,
   "metadata": {},
   "outputs": [
    {
     "data": {
      "text/plain": [
       "array([['ID_1030', 'building_1', '11.1.2005', ..., 'Home', 'No',\n",
       "        'Website'],\n",
       "       ['ID_1029', 'building_1', '10.1.2005', ..., 'Home', 'No',\n",
       "        'Website'],\n",
       "       ['ID_2002', 'building_2', '7.1.2007', ..., 'Home', 'Yes',\n",
       "        'Client'],\n",
       "       ...,\n",
       "       ['ID_1003', 'building_1', 'nan', ..., 'nan', 'nan', 'nan'],\n",
       "       ['ID_1008', 'building_1', 'nan', ..., 'nan', 'nan', 'nan'],\n",
       "       ['ID_1019', 'building_1', 'nan', ..., 'nan', 'nan', 'nan']],\n",
       "      dtype='<U11')"
      ]
     },
     "execution_count": 68,
     "metadata": {},
     "output_type": "execute_result"
    }
   ],
   "source": [
    "data = np.genfromtxt('Real_estate(cleaned).csv', delimiter = ';', skip_header=1, usecols=columns_str, dtype = str)\n",
    "data"
   ]
  },
  {
   "cell_type": "code",
   "execution_count": 62,
   "metadata": {},
   "outputs": [
    {
     "name": "stderr",
     "output_type": "stream",
     "text": [
      "C:\\Users\\Palmg\\AppData\\Local\\Temp\\ipykernel_20652\\3615647074.py:1: RuntimeWarning: Mean of empty slice\n",
      "  temp_mean = np.nanmean(data, axis = 0)\n"
     ]
    },
    {
     "data": {
      "text/plain": [
       "array([           nan,            nan,            nan,            nan,\n",
       "                  nan, 9.03787850e+02,            nan,            nan,\n",
       "                  nan,            nan,            nan,            nan,\n",
       "                  nan,            nan,            nan,            nan,\n",
       "       3.60000000e+00,            nan,            nan, 2.70777631e+05])"
      ]
     },
     "execution_count": 62,
     "metadata": {},
     "output_type": "execute_result"
    }
   ],
   "source": [
    "temp_mean = np.nanmean(data, axis = 0)\n",
    "temp_mean"
   ]
  },
  {
   "cell_type": "code",
   "execution_count": 77,
   "metadata": {},
   "outputs": [
    {
     "data": {
      "text/plain": [
       "(array(['Aleksandrov', 'Ali', 'Anderson', 'Ayers', 'Bailey', 'Benitez',\n",
       "        'Bennett', 'Berger', 'Blake', 'Bray', 'Bright', 'Brown',\n",
       "        'Buchanan', 'Cameron', 'Campos', 'Cardenas', 'Carr', 'Carrillo',\n",
       "        'Chandler', 'Charles', 'Chen', 'Choi', 'Christensen', 'Cline',\n",
       "        'Co', 'Collier', 'Costa', 'Crane', 'Cross', 'Curry', 'Dorsey',\n",
       "        'Edwards', 'Ellis', 'Espinoza', 'Estes', 'Ewing', 'Faulkner',\n",
       "        'Ferrell', 'Fischer', 'Fisher', 'Flowers', 'Forbes', 'Franco',\n",
       "        'Fritz', 'Fuller', 'Gallagher', 'Gay', 'Gibson', 'Gilbert',\n",
       "        'Glass', 'Glover', 'Goodwin', 'Grant', 'Greer', 'Gross', 'Guerra',\n",
       "        'Hansen', 'Hanson', 'Hatfield', 'Hendricks', 'Hess', 'Hickman',\n",
       "        'Hinton', 'Hogan', 'Holland', 'Horne', 'Howard', 'Huang', 'Huff',\n",
       "        'Hunt', 'Hurley', 'Irwin', 'Jensen', 'Johns', 'Juarez', 'Karenina',\n",
       "        'Kennedy', 'Larsen', 'Leonard', 'Li', 'Liu', 'Lozano', 'Lucero',\n",
       "        'Lynch', 'Lynn', 'Mack', 'Madden', 'Marquez', 'Mata', 'Mcconnell',\n",
       "        'Mckee', 'Melton', 'Mendez', 'Mercer', 'Merritt', 'Meyer',\n",
       "        'Michael', 'Miller', 'Mora', 'Morrison', 'Mueller', 'Mullins',\n",
       "        'Navarro', 'Nelson', 'Nielsen', 'Nixon', 'Obrien', 'Oconnell',\n",
       "        'Oconnor', 'Olsen', 'Oneill', 'Owen', 'Palmer', 'Park', 'Patrick',\n",
       "        'Perry', 'Petrova', 'Phelps', 'Poole', 'Porter', 'Pugh', 'Ramirez',\n",
       "        'Reeves', 'Riggs', 'Rios', 'Robinson', 'Robles', 'Roman',\n",
       "        'Sanchez', 'Shaffer', 'Shannon', 'Sharp', 'Shea', 'Simmons',\n",
       "        'Simon', 'Simpson', 'Singh', 'Stein', 'Stephenson', 'Steward',\n",
       "        'Stewart', 'Stout', 'Strong', 'Tate', 'Taylor', 'Terrell',\n",
       "        'Turner', 'Vega', 'Villarreal', 'Walker', 'Walter', 'Watts',\n",
       "        'Weber', 'Williamson', 'Wright', 'Wyatt', 'nan'], dtype='<U11'),\n",
       " array([ 1,  1,  1,  1,  1,  1,  1,  1,  1,  1,  1,  1,  1,  1,  1,  1,  1,\n",
       "         1,  1,  1,  1,  1,  1,  1, 17,  1,  1,  1,  1,  1,  1,  2,  1,  1,\n",
       "         1,  1,  7,  1,  1,  1,  1,  1,  1,  1,  2,  1,  1,  1,  1,  1,  1,\n",
       "         1,  1,  1,  2,  1,  1,  2,  1,  1,  1,  1,  2,  1,  1,  1,  1,  1,\n",
       "         2,  1,  1,  1,  1,  1,  1,  1,  1,  1,  1,  1,  1,  1,  1,  1,  1,\n",
       "         1,  1,  1,  1,  1,  1,  1,  1,  1,  1,  2,  1,  1,  1,  1,  2,  2,\n",
       "         1,  1,  1,  1,  2,  1,  1,  1,  1,  2,  1,  1,  1,  1,  1,  1,  1,\n",
       "         2,  1,  1,  2,  1,  1,  1,  1,  1,  1,  2,  1,  1,  1,  1,  1,  1,\n",
       "         1,  1,  1,  1,  1,  1,  2,  1,  1,  3,  1,  1,  1,  1,  1,  1,  1,\n",
       "         1,  1,  1,  5], dtype=int64))"
      ]
     },
     "execution_count": 77,
     "metadata": {},
     "output_type": "execute_result"
    }
   ],
   "source": [
    "np.unique(data[:,9], return_counts = True)"
   ]
  },
  {
   "cell_type": "code",
   "execution_count": 75,
   "metadata": {},
   "outputs": [
    {
     "ename": "AttributeError",
     "evalue": "module 'numpy' has no attribute 'strip'",
     "output_type": "error",
     "traceback": [
      "\u001b[1;31m---------------------------------------------------------------------------\u001b[0m",
      "\u001b[1;31mAttributeError\u001b[0m                            Traceback (most recent call last)",
      "Cell \u001b[1;32mIn[75], line 1\u001b[0m\n\u001b[1;32m----> 1\u001b[0m np\u001b[39m.\u001b[39;49mstrip(data[:,\u001b[39m1\u001b[39m], \u001b[39m'\u001b[39m\u001b[39mbuilding_\u001b[39m\u001b[39m'\u001b[39m)\n",
      "File \u001b[1;32mc:\\Users\\Palmg\\AppData\\Local\\Programs\\Python\\Python310\\lib\\site-packages\\numpy\\__init__.py:322\u001b[0m, in \u001b[0;36m__getattr__\u001b[1;34m(attr)\u001b[0m\n\u001b[0;32m    319\u001b[0m     \u001b[39m\"\u001b[39m\u001b[39mRemoved in NumPy 1.25.0\u001b[39m\u001b[39m\"\u001b[39m\n\u001b[0;32m    320\u001b[0m     \u001b[39mraise\u001b[39;00m \u001b[39mRuntimeError\u001b[39;00m(\u001b[39m\"\u001b[39m\u001b[39mTester was removed in NumPy 1.25.\u001b[39m\u001b[39m\"\u001b[39m)\n\u001b[1;32m--> 322\u001b[0m \u001b[39mraise\u001b[39;00m \u001b[39mAttributeError\u001b[39;00m(\u001b[39m\"\u001b[39m\u001b[39mmodule \u001b[39m\u001b[39m{!r}\u001b[39;00m\u001b[39m has no attribute \u001b[39m\u001b[39m\"\u001b[39m\n\u001b[0;32m    323\u001b[0m                      \u001b[39m\"\u001b[39m\u001b[39m{!r}\u001b[39;00m\u001b[39m\"\u001b[39m\u001b[39m.\u001b[39mformat(\u001b[39m__name__\u001b[39m, attr))\n",
      "\u001b[1;31mAttributeError\u001b[0m: module 'numpy' has no attribute 'strip'"
     ]
    }
   ],
   "source": [
    "np.chararray.strip(data[:,1], 'building_')"
   ]
  },
  {
   "cell_type": "code",
   "execution_count": 81,
   "metadata": {},
   "outputs": [
    {
     "data": {
      "text/plain": [
       "array([['Madalyn', 'Mercer'],\n",
       "       ['Lara', 'Carrillo'],\n",
       "       ['Donavan', 'Flowers'],\n",
       "       ['Darien', 'Dorsey'],\n",
       "       ['Alessandra', 'Perry'],\n",
       "       ['Kaitlin', 'Owen'],\n",
       "       ['Kaitlin', 'Owen'],\n",
       "       ['Terry', 'Forbes'],\n",
       "       ['Kole', 'Shannon'],\n",
       "       ['Emmy', 'Singh'],\n",
       "       ['Arabella', 'Ferrell'],\n",
       "       ['Christian', 'Costa'],\n",
       "       ['Michelle', 'Cameron'],\n",
       "       ['Enrique', 'Cardenas'],\n",
       "       ['Amanda', 'Simon'],\n",
       "       ['Kamden', 'Stewart'],\n",
       "       ['Skylar', 'Buchanan'],\n",
       "       ['Michael', 'Juarez'],\n",
       "       ['Antonio', 'Porter'],\n",
       "       ['Antonio', 'Porter'],\n",
       "       ['Conner', 'Huff'],\n",
       "       ['Joaquin', 'Mullins'],\n",
       "       ['Joaquin', 'Mullins'],\n",
       "       ['Kyla', 'Walker'],\n",
       "       ['Victor', 'Jensen'],\n",
       "       ['Tyler', 'Carr'],\n",
       "       ['Maia', 'Chandler'],\n",
       "       ['Rodrigo', 'Ramirez'],\n",
       "       ['Gianni', 'Fritz'],\n",
       "       ['Janelle', 'Espinoza'],\n",
       "       ['Julio', 'Leonard'],\n",
       "       ['Melanie', 'Holland'],\n",
       "       ['Gordon', 'Brown'],\n",
       "       ['Jaelyn', 'Berger'],\n",
       "       ['Adriana', 'Shaffer'],\n",
       "       ['Mara', 'Franco'],\n",
       "       ['Kael', 'Hurley'],\n",
       "       ['Belinda', 'Hogan'],\n",
       "       ['Mohammad', 'Irwin'],\n",
       "       ['Warren', 'Pugh'],\n",
       "       ['Kassidy', 'Vega'],\n",
       "       ['Lauryn', 'Patrick'],\n",
       "       ['Brock', 'Fischer'],\n",
       "       ['Memphis', 'Mcconnell'],\n",
       "       ['Grant', 'Weber'],\n",
       "       ['Jace', 'Riggs'],\n",
       "       ['Emmett', 'Estes'],\n",
       "       ['Isis', 'Rios'],\n",
       "       ['Mason', 'Gilbert'],\n",
       "       ['Zain', 'Horne'],\n",
       "       ['Dayton', 'Hatfield'],\n",
       "       ['Annabel', 'Robles'],\n",
       "       ['Kayden', 'Olsen'],\n",
       "       ['Davion', 'Stout'],\n",
       "       ['Kevin', 'Mata'],\n",
       "       ['Kareem', 'Liu'],\n",
       "       ['Grace', 'Stein'],\n",
       "       ['Lydia', 'Tate'],\n",
       "       ['Aleksandra', 'Karenina'],\n",
       "       ['Sincere', 'Hansen'],\n",
       "       ['Luke', 'Lynn'],\n",
       "       ['Myla', 'Ewing'],\n",
       "       ['Morgan', 'Glass'],\n",
       "       ['Camille', 'Sharp'],\n",
       "       ['Alejandra', 'Greer'],\n",
       "       ['Valentina', 'Simpson'],\n",
       "       ['Helen', 'Williamson'],\n",
       "       ['Nicolas', 'Navarro'],\n",
       "       ['Case', 'Sanchez'],\n",
       "       ['Rodrigo', 'Robinson'],\n",
       "       ['Iris', 'Larsen'],\n",
       "       ['Araceli', 'Nelson'],\n",
       "       ['Trystan', 'Oconnor'],\n",
       "       ['Erik', 'Mora'],\n",
       "       ['Emely', 'Watts'],\n",
       "       ['Jordyn', 'Park'],\n",
       "       ['Diego', 'Mendez'],\n",
       "       ['Harley', 'Lucero'],\n",
       "       ['Emilie', 'Morrison'],\n",
       "       ['Jaylen', 'Turner'],\n",
       "       ['Frank', 'Meyer'],\n",
       "       ['Frank', 'Meyer'],\n",
       "       ['Jakobe', 'Bailey'],\n",
       "       ['Laci', 'Guerra'],\n",
       "       ['Scarlet', 'Hendricks'],\n",
       "       ['Alonso', 'Terrell'],\n",
       "       ['Alonso', 'Terrell'],\n",
       "       ['Alonso', 'Terrell'],\n",
       "       ['Hazel', 'Ayers'],\n",
       "       ['Brisa', 'Mckee'],\n",
       "       ['Johanna', 'Fisher'],\n",
       "       ['Curtis', 'Howard'],\n",
       "       ['Kamila', 'Collier'],\n",
       "       ['Joseph', 'Reeves'],\n",
       "       ['Joseph', 'Reeves'],\n",
       "       ['Adriana', 'Shaffer'],\n",
       "       ['Oswaldo', 'Palmer'],\n",
       "       ['Ezra', 'Lozano'],\n",
       "       ['Melany', 'Glover'],\n",
       "       ['Jacqueline', 'Grant'],\n",
       "       ['Violet', 'Nixon'],\n",
       "       ['Anya', 'Stephenson'],\n",
       "       ['Kale', 'Gay'],\n",
       "       ['Russell', 'Gross'],\n",
       "       ['Russell', 'Gross'],\n",
       "       ['Laurel', 'Benitez'],\n",
       "       ['Aniyah', 'Ali'],\n",
       "       ['Derick', 'Li'],\n",
       "       ['Cole', 'Taylor'],\n",
       "       ['Ava', 'Phelps'],\n",
       "       ['Nyla', 'Blake'],\n",
       "       ['Conner', 'Huff'],\n",
       "       ['Tristian', 'Fuller'],\n",
       "       ['Tristian', 'Fuller'],\n",
       "       ['Piotr', 'Aleksandrov'],\n",
       "       ['Yurem', 'Wright'],\n",
       "       ['Luis', 'Crane'],\n",
       "       ['Anahi', 'Curry'],\n",
       "       ['Ramiro', 'Oneill'],\n",
       "       ['Erika', 'Steward'],\n",
       "       ['Dangelo', 'Shea'],\n",
       "       ['Miguel', 'Walter'],\n",
       "       ['Alanna', 'Hess'],\n",
       "       ['Simon', 'Bennett'],\n",
       "       ['Ivan', 'Bright'],\n",
       "       ['Madeline', 'Michael'],\n",
       "       ['Arthur', 'Bray'],\n",
       "       ['Bennett', 'Chen'],\n",
       "       ['Van', 'Charles'],\n",
       "       ['Rachel', 'Cross'],\n",
       "       ['Augustus', 'Hinton'],\n",
       "       ['Augustus', 'Hinton'],\n",
       "       ['Avah', 'Huang'],\n",
       "       ['Nora', 'Lynch'],\n",
       "       ['Irvin', 'Ellis'],\n",
       "       ['Aiyana', 'Christensen'],\n",
       "       ['Parker', 'Poole'],\n",
       "       ['Jack', 'Anderson'],\n",
       "       ['Cedric', 'Goodwin'],\n",
       "       ['Elena', 'Petrova'],\n",
       "       ['Aniya', 'Miller'],\n",
       "       ['Kayley', 'Nielsen'],\n",
       "       ['Zaiden', 'Merritt'],\n",
       "       ['Sonia', 'Choi'],\n",
       "       ['Trey', 'Strong'],\n",
       "       ['Trey', 'Strong'],\n",
       "       ['Xavier', 'Faulkner'],\n",
       "       ['Xavier', 'Faulkner'],\n",
       "       ['Xavier', 'Faulkner'],\n",
       "       ['Xavier', 'Faulkner'],\n",
       "       ['Xavier', 'Faulkner'],\n",
       "       ['Xavier', 'Faulkner'],\n",
       "       ['Xavier', 'Faulkner'],\n",
       "       ['Franklin', 'Mack'],\n",
       "       ['Logan', 'Simmons'],\n",
       "       ['Sidney', 'Cline'],\n",
       "       ['Matilda', 'Madden'],\n",
       "       ['Yesenia', 'Marquez'],\n",
       "       ['Colin', 'Campos'],\n",
       "       ['Erika', 'Gallagher'],\n",
       "       ['Jair', 'Johns'],\n",
       "       ['Jaylynn', 'Hickman'],\n",
       "       ['Jack', 'Hanson'],\n",
       "       ['Jack', 'Hanson'],\n",
       "       ['Rodolfo', 'Gibson'],\n",
       "       ['Olivia', 'Oconnell'],\n",
       "       ['Crystal', 'Wyatt'],\n",
       "       ['Ruben', 'Melton'],\n",
       "       ['Issac', 'Edwards'],\n",
       "       ['Issac', 'Edwards'],\n",
       "       ['Jesus', 'Obrien'],\n",
       "       ['Jesus', 'Obrien'],\n",
       "       ['Jamal', 'Mueller'],\n",
       "       ['Jamal', 'Mueller'],\n",
       "       ['Kaylin', 'Villarreal'],\n",
       "       ['Myah', 'Roman'],\n",
       "       ['Henry', 'Kennedy'],\n",
       "       ['Diana', 'Hunt'],\n",
       "       ['nan', 'nan'],\n",
       "       ['Kamd', 'Co'],\n",
       "       ['Bridger CAL', 'Co'],\n",
       "       ['Bridger CAL', 'Co'],\n",
       "       ['Abdiel', 'Co'],\n",
       "       ['Kenyon', 'Co'],\n",
       "       ['Kenyon', 'Co'],\n",
       "       ['Kylax', 'Co'],\n",
       "       ['Esther', 'Co'],\n",
       "       ['Marleez', 'Co'],\n",
       "       ['Marleez', 'Co'],\n",
       "       ['Marleez', 'Co'],\n",
       "       ['Marleez', 'Co'],\n",
       "       ['Marleez', 'Co'],\n",
       "       ['Marleez', 'Co'],\n",
       "       ['Marleez', 'Co'],\n",
       "       ['Marleez', 'Co'],\n",
       "       ['Marleez', 'Co'],\n",
       "       ['nan', 'nan'],\n",
       "       ['nan', 'nan'],\n",
       "       ['nan', 'nan'],\n",
       "       ['nan', 'nan']], dtype='<U11')"
      ]
     },
     "execution_count": 81,
     "metadata": {},
     "output_type": "execute_result"
    }
   ],
   "source": [
    "np.stack((data[:,8],data[:,9]), axis = -1)"
   ]
  },
  {
   "cell_type": "code",
   "execution_count": 100,
   "metadata": {},
   "outputs": [],
   "source": [
    "data = np.genfromtxt(\"Real_estate(cleaned).csv\",\n",
    "                     delimiter = \";\",\n",
    "                     skip_header = 1,\n",
    "                     usecols=columns_str,\n",
    "                     dtype = str)"
   ]
  },
  {
   "cell_type": "code",
   "execution_count": 95,
   "metadata": {},
   "outputs": [
    {
     "data": {
      "text/plain": [
       "35"
      ]
     },
     "execution_count": 95,
     "metadata": {},
     "output_type": "execute_result"
    }
   ],
   "source": [
    "(data[:,2] > 350000).sum()"
   ]
  },
  {
   "cell_type": "code",
   "execution_count": 99,
   "metadata": {},
   "outputs": [
    {
     "data": {
      "text/plain": [
       "(array([ 32, 115,  34,  17,   2], dtype=int64),\n",
       " array([ 410.71 ,  717.068, 1023.426, 1329.784, 1636.142, 1942.5  ]))"
      ]
     },
     "execution_count": 99,
     "metadata": {},
     "output_type": "execute_result"
    }
   ],
   "source": [
    "hist, bins = np.histogram(data[:,0], bins = 5)\n",
    "hist, bins"
   ]
  },
  {
   "cell_type": "code",
   "execution_count": 83,
   "metadata": {},
   "outputs": [
    {
     "data": {
      "text/plain": [
       "(410.71, 532877.38)"
      ]
     },
     "execution_count": 83,
     "metadata": {},
     "output_type": "execute_result"
    }
   ],
   "source": [
    "np.nanmin(data[:,5]), np.nanmax(data[:,19])"
   ]
  },
  {
   "cell_type": "code",
   "execution_count": 87,
   "metadata": {},
   "outputs": [
    {
     "data": {
      "text/plain": [
       "array(['F', 'F', 'M', 'M', 'F', 'F', 'F', 'M', 'M', 'F', 'F', 'M', 'F',\n",
       "       'M', 'F', 'M', 'M', 'M', 'M', 'M', 'M', 'M', 'M', 'F', 'M', 'M',\n",
       "       'F', 'M', 'M', 'F', 'M', 'F', 'M', 'F', 'F', 'F', 'M', 'F', 'M',\n",
       "       'M', 'F', 'F', 'M', 'M', 'M', 'F', 'M', 'M', 'M', 'M', 'M', 'F',\n",
       "       'F', 'M', 'M', 'F', 'F', 'F', 'F', 'F', 'M', 'F', 'M', 'F', 'F',\n",
       "       'F', 'F', 'M', 'F', 'M', 'M', 'M', 'M', 'M', 'F', 'M', 'M', 'M',\n",
       "       'F', 'F', 'M', 'M', 'M', 'F', 'F', 'M', 'M', 'M', 'M', 'F', 'F',\n",
       "       'M', 'F', 'M', 'M', 'F', 'M', 'M', 'F', 'F', 'F', 'F', 'M', 'M',\n",
       "       'M', 'M', 'F', 'M', 'M', 'F', 'F', 'M', 'M', 'M', 'M', 'M', 'M',\n",
       "       'M', 'M', 'F', 'M', 'M', 'F', 'M', 'M', 'F', 'M', 'M', 'M', 'F',\n",
       "       'M', 'M', 'F', 'F', 'M', 'F', 'M', 'M', 'M', 'F', 'F', 'F', 'M',\n",
       "       'F', 'M', 'M', 'M', 'M', 'M', 'M', 'M', 'M', 'M', 'M', 'M', 'F',\n",
       "       'F', 'F', 'M', 'F', 'M', 'F', 'M', 'M', 'M', 'F', 'F', 'M', 'M',\n",
       "       'M', 'M', 'M', 'M', 'M', 'F', 'F', 'M', 'F', 'nan', 'nan', 'nan',\n",
       "       'nan', 'nan', 'nan', 'nan', 'nan', 'nan', 'nan', 'nan', 'nan',\n",
       "       'nan', 'nan', 'nan', 'nan', 'nan', 'nan', 'nan', 'nan', 'nan',\n",
       "       'nan'], dtype='<U11')"
      ]
     },
     "execution_count": 87,
     "metadata": {},
     "output_type": "execute_result"
    }
   ],
   "source": [
    "data[:,11]"
   ]
  },
  {
   "cell_type": "code",
   "execution_count": null,
   "metadata": {},
   "outputs": [],
   "source": [
    "s = ['F', 'M']\n",
    "\n",
    "for i in range(len(s)):\n",
    "    data[:,11] = np.where(data[:,11] == s[i],\n",
    "                          i,\n",
    "                          data[:,11])\n",
    "\n"
   ]
  },
  {
   "cell_type": "code",
   "execution_count": null,
   "metadata": {},
   "outputs": [],
   "source": []
  }
 ],
 "metadata": {
  "kernelspec": {
   "display_name": "Python 3",
   "language": "python",
   "name": "python3"
  },
  "language_info": {
   "codemirror_mode": {
    "name": "ipython",
    "version": 3
   },
   "file_extension": ".py",
   "mimetype": "text/x-python",
   "name": "python",
   "nbconvert_exporter": "python",
   "pygments_lexer": "ipython3",
   "version": "3.10.10"
  },
  "orig_nbformat": 4
 },
 "nbformat": 4,
 "nbformat_minor": 2
}
