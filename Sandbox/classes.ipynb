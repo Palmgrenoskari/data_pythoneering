{
 "cells": [
  {
   "cell_type": "code",
   "execution_count": 30,
   "metadata": {},
   "outputs": [],
   "source": [
    "class Patient(object):\n",
    "    '''Patient in TYKS'''\n",
    "\n",
    "    status = 'patient'\n",
    "\n",
    "    def __init__(self, name, age):\n",
    "\n",
    "        self.name = name\n",
    "        self.age = age\n",
    "        self.conditions = []\n",
    "    \n",
    "    def get_details(self):\n",
    "        print(f'Patient record: {self.name}, {self.age} years. \\nCurrent information: {self.conditions}')\n",
    "\n",
    "    def add_info(self,information):\n",
    "        self.conditions.append(information)"
   ]
  },
  {
   "cell_type": "code",
   "execution_count": 31,
   "metadata": {},
   "outputs": [],
   "source": [
    "steve = Patient('Steve Hughes', 48)\n",
    "abigail = Patient('Abigail Sandwick', 32)"
   ]
  },
  {
   "cell_type": "code",
   "execution_count": 32,
   "metadata": {},
   "outputs": [],
   "source": [
    "steve.add_info('Serious ear infection')"
   ]
  },
  {
   "cell_type": "code",
   "execution_count": 33,
   "metadata": {},
   "outputs": [
    {
     "name": "stdout",
     "output_type": "stream",
     "text": [
      "Patient record: Steve Hughes, 48 years. \n",
      "Current information: ['Serious ear infection']\n"
     ]
    }
   ],
   "source": [
    "steve.get_details()"
   ]
  },
  {
   "cell_type": "code",
   "execution_count": 26,
   "metadata": {},
   "outputs": [],
   "source": [
    "class Infant(Patient):\n",
    "    '''Patient in TYKS under 2 years old'''\n",
    "\n",
    "    def __init__(self, name, age):\n",
    "        self.vaccinations = []\n",
    "        super().__init__(name, age)\n",
    "    \n",
    "    def add_vac(self,vaccine):\n",
    "        self.vaccinations.append(vaccine)\n",
    "    \n",
    "    def get_details(self):\n",
    "        print(f'Patient record: {self.name}, {self.age} years.' \\\n",
    "              f'\\nPatient has had {self.vaccinations} vaccines.' \\\n",
    "              f'\\nCurrent information: {self.conditions}' \\\n",
    "              f'\\n{self.name} IS AN INFANT, HAS HE HAD ALL HIS CHECKS')"
   ]
  },
  {
   "cell_type": "code",
   "execution_count": 27,
   "metadata": {},
   "outputs": [],
   "source": [
    "archie = Infant('Archie Fittleworth', 0)"
   ]
  },
  {
   "cell_type": "code",
   "execution_count": 28,
   "metadata": {},
   "outputs": [],
   "source": [
    "archie.add_vac('MMR')"
   ]
  },
  {
   "cell_type": "code",
   "execution_count": 34,
   "metadata": {},
   "outputs": [
    {
     "name": "stdout",
     "output_type": "stream",
     "text": [
      "Patient record: Archie Fittleworth, 0 years.\n",
      "Patient has had ['MMR'] vaccines.\n",
      "Current information: []\n",
      "Archie Fittleworth IS AN INFANT, HAS HE HAD ALL HIS CHECKS\n"
     ]
    }
   ],
   "source": [
    "archie.get_details()"
   ]
  },
  {
   "cell_type": "code",
   "execution_count": 35,
   "metadata": {},
   "outputs": [],
   "source": [
    "class BankAccount(object):\n",
    "    '''\n",
    "    A bank account class\n",
    "    Attributes:\n",
    "        balance     bank balance\n",
    "    '''\n",
    "\n",
    "    def __init__(self, balance=0.0):\n",
    "        self.balance = balance\n",
    "    \n",
    "    def display_balance(self):\n",
    "        print(f'Your balance is {self.balance}')\n",
    "    \n",
    "    def make_deposit(self):\n",
    "        amount = float(input('How much would you like to deposit?:> '))\n",
    "        self.balance += amount\n",
    "        print(f'Your balance is now {self.balance}')\n",
    "    \n",
    "    def make_withdrawal(self):\n",
    "        amount = float(input('How much would you like to withdraw?:> '))\n",
    "        if amount > self.balance:\n",
    "            print(f'You do not have sufficient funds, your balance is {self.balance}')\n",
    "        else:\n",
    "            self.balance -= amount\n",
    "            print(f'Withdrawal successful: balance is now {self.balance}.')"
   ]
  },
  {
   "cell_type": "code",
   "execution_count": 36,
   "metadata": {},
   "outputs": [],
   "source": [
    "oskun_pankkitili = BankAccount(1000)"
   ]
  },
  {
   "cell_type": "code",
   "execution_count": 38,
   "metadata": {},
   "outputs": [
    {
     "name": "stdout",
     "output_type": "stream",
     "text": [
      "Your balance is 1000\n"
     ]
    }
   ],
   "source": [
    "oskun_pankkitili.display_balance()"
   ]
  },
  {
   "cell_type": "code",
   "execution_count": 40,
   "metadata": {},
   "outputs": [
    {
     "name": "stdout",
     "output_type": "stream",
     "text": [
      "Withdrawal successful: balance is now 1.0.\n"
     ]
    }
   ],
   "source": [
    "oskun_pankkitili.make_withdrawal()"
   ]
  }
 ],
 "metadata": {
  "kernelspec": {
   "display_name": "Python 3",
   "language": "python",
   "name": "python3"
  },
  "language_info": {
   "codemirror_mode": {
    "name": "ipython",
    "version": 3
   },
   "file_extension": ".py",
   "mimetype": "text/x-python",
   "name": "python",
   "nbconvert_exporter": "python",
   "pygments_lexer": "ipython3",
   "version": "3.10.10"
  },
  "orig_nbformat": 4
 },
 "nbformat": 4,
 "nbformat_minor": 2
}
