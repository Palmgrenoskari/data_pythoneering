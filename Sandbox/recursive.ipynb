{
 "cells": [
  {
   "cell_type": "code",
   "execution_count": 2,
   "metadata": {},
   "outputs": [],
   "source": [
    "def fib_2(n):\n",
    "    '''Recursive fibonacci function. Returns the nth fib number'''\n",
    "    if n==0:\n",
    "        return 0\n",
    "    elif n==1:\n",
    "        return 1\n",
    "    else:\n",
    "        return fib_2(n-1) + fib_2(n-2)\n"
   ]
  },
  {
   "cell_type": "code",
   "execution_count": 3,
   "metadata": {},
   "outputs": [],
   "source": [
    "def fib(n):\n",
    "    '''Calculates and returns the nth fibonacci number iteratively'''\n",
    "    a = 0\n",
    "    b = 1\n",
    "    for i in range(n):\n",
    "        a,b = b,a+b\n",
    "    return a"
   ]
  },
  {
   "cell_type": "code",
   "execution_count": 18,
   "metadata": {},
   "outputs": [
    {
     "name": "stdout",
     "output_type": "stream",
     "text": [
      "Iterative Fibonacci time: 0.0007859000470489264s\n",
      "Recursive Fibonacci time: 1.5180144999176264s\n",
      "Iterative function was 1900 times faster\n"
     ]
    }
   ],
   "source": [
    "import timeit\n",
    "\n",
    "# nth fibonacci\n",
    "n = 20\n",
    "\n",
    "iterative_time = timeit.timeit(lambda: fib(n), number=1000)\n",
    "recursive_time = timeit.timeit(lambda: fib_2(n), number=1000)\n",
    "\n",
    "print(f\"Iterative Fibonacci time: {iterative_time}s\")\n",
    "print(f\"Recursive Fibonacci time: {recursive_time}s\")\n",
    "\n",
    "print(\"Iterative function was\", round(int(recursive_time / iterative_time), -2), \"times faster\")"
   ]
  }
 ],
 "metadata": {
  "kernelspec": {
   "display_name": "Python 3",
   "language": "python",
   "name": "python3"
  },
  "language_info": {
   "codemirror_mode": {
    "name": "ipython",
    "version": 3
   },
   "file_extension": ".py",
   "mimetype": "text/x-python",
   "name": "python",
   "nbconvert_exporter": "python",
   "pygments_lexer": "ipython3",
   "version": "3.10.10"
  },
  "orig_nbformat": 4
 },
 "nbformat": 4,
 "nbformat_minor": 2
}
