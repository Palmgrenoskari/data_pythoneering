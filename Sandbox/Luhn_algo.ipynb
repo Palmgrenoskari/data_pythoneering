{
 "cells": [
  {
   "cell_type": "code",
   "execution_count": 6,
   "metadata": {},
   "outputs": [],
   "source": [
    "def credit_card_validibility(number):\n",
    "    num_list = [int(num) for num in number]\n",
    "    num_len = len(num_list)\n",
    "    num_list_reversed = num_list[::-1]\n",
    "    double = 0\n",
    "    single = 0\n",
    "    for i in range(num_len):\n",
    "        if i%2 != 0:\n",
    "            if 2*num_list_reversed[i] > 9:\n",
    "                double = double + 2*num_list_reversed[i] - 9\n",
    "            else:\n",
    "                double = double + 2 * num_list_reversed[i]\n",
    "        else:\n",
    "            single = single + num_list_reversed[i]\n",
    "\n",
    "    if (double + single) % 10 == 0:\n",
    "        print(f'{number} is a valid credit card number')\n",
    "    else:\n",
    "        print(f'{number} is not a valid credit card number')"
   ]
  },
  {
   "cell_type": "code",
   "execution_count": 7,
   "metadata": {},
   "outputs": [
    {
     "name": "stdout",
     "output_type": "stream",
     "text": [
      "1620602154679989 is not a valid credit card number\n",
      "4920650199488686 is a valid credit card number\n",
      "7032409523435014 is a valid credit card number\n"
     ]
    },
    {
     "ename": "ValueError",
     "evalue": "invalid literal for int() with base 10: '-'",
     "output_type": "error",
     "traceback": [
      "\u001b[1;31m---------------------------------------------------------------------------\u001b[0m",
      "\u001b[1;31mValueError\u001b[0m                                Traceback (most recent call last)",
      "Cell \u001b[1;32mIn[7], line 5\u001b[0m\n\u001b[0;32m      3\u001b[0m number \u001b[39m=\u001b[39m \u001b[39minput\u001b[39m(\u001b[39m'\u001b[39m\u001b[39mPlease enter credit card number:> \u001b[39m\u001b[39m'\u001b[39m)\n\u001b[0;32m      4\u001b[0m \u001b[39mif\u001b[39;00m (number \u001b[39m!=\u001b[39m \u001b[39m-\u001b[39m\u001b[39m1\u001b[39m):\n\u001b[1;32m----> 5\u001b[0m     credit_card_validibility(number)\n",
      "Cell \u001b[1;32mIn[6], line 2\u001b[0m, in \u001b[0;36mcredit_card_validibility\u001b[1;34m(number)\u001b[0m\n\u001b[0;32m      1\u001b[0m \u001b[39mdef\u001b[39;00m \u001b[39mcredit_card_validibility\u001b[39m(number):\n\u001b[1;32m----> 2\u001b[0m     num_list \u001b[39m=\u001b[39m [\u001b[39mint\u001b[39m(num) \u001b[39mfor\u001b[39;00m num \u001b[39min\u001b[39;00m number]\n\u001b[0;32m      3\u001b[0m     num_len \u001b[39m=\u001b[39m \u001b[39mlen\u001b[39m(num_list)\n\u001b[0;32m      4\u001b[0m     num_list_reversed \u001b[39m=\u001b[39m num_list[::\u001b[39m-\u001b[39m\u001b[39m1\u001b[39m]\n",
      "Cell \u001b[1;32mIn[6], line 2\u001b[0m, in \u001b[0;36m<listcomp>\u001b[1;34m(.0)\u001b[0m\n\u001b[0;32m      1\u001b[0m \u001b[39mdef\u001b[39;00m \u001b[39mcredit_card_validibility\u001b[39m(number):\n\u001b[1;32m----> 2\u001b[0m     num_list \u001b[39m=\u001b[39m [\u001b[39mint\u001b[39;49m(num) \u001b[39mfor\u001b[39;00m num \u001b[39min\u001b[39;00m number]\n\u001b[0;32m      3\u001b[0m     num_len \u001b[39m=\u001b[39m \u001b[39mlen\u001b[39m(num_list)\n\u001b[0;32m      4\u001b[0m     num_list_reversed \u001b[39m=\u001b[39m num_list[::\u001b[39m-\u001b[39m\u001b[39m1\u001b[39m]\n",
      "\u001b[1;31mValueError\u001b[0m: invalid literal for int() with base 10: '-'"
     ]
    }
   ],
   "source": [
    "number = 123\n",
    "while(number != -1):\n",
    "    number = input('Please enter credit card number:> ')\n",
    "    credit_card_validibility(number)"
   ]
  }
 ],
 "metadata": {
  "kernelspec": {
   "display_name": "Python 3",
   "language": "python",
   "name": "python3"
  },
  "language_info": {
   "codemirror_mode": {
    "name": "ipython",
    "version": 3
   },
   "file_extension": ".py",
   "mimetype": "text/x-python",
   "name": "python",
   "nbconvert_exporter": "python",
   "pygments_lexer": "ipython3",
   "version": "3.10.10"
  },
  "orig_nbformat": 4
 },
 "nbformat": 4,
 "nbformat_minor": 2
}
