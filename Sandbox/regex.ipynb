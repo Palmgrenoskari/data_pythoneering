{
 "cells": [
  {
   "cell_type": "markdown",
   "metadata": {},
   "source": [
    "# Basic regex "
   ]
  },
  {
   "cell_type": "code",
   "execution_count": 26,
   "metadata": {},
   "outputs": [],
   "source": [
    "import re"
   ]
  },
  {
   "cell_type": "markdown",
   "metadata": {},
   "source": [
    "1. Matching text"
   ]
  },
  {
   "cell_type": "code",
   "execution_count": 27,
   "metadata": {},
   "outputs": [
    {
     "name": "stdout",
     "output_type": "stream",
     "text": [
      "'fox' found at index 16 to 19\n"
     ]
    }
   ],
   "source": [
    "text = \"The quick brown fox jumps over the lazy dog\"\n",
    "pattern = \"fox\"\n",
    "\n",
    "match = re.search(pattern, text)\n",
    "\n",
    "if match:\n",
    "    print(f\"'{pattern}' found at index {match.start()} to {match.end()}\")\n",
    "else:\n",
    "    print(f\"'{pattern}' not found in text\")"
   ]
  },
  {
   "cell_type": "markdown",
   "metadata": {},
   "source": [
    "2. Using Metacharacters"
   ]
  },
  {
   "cell_type": "code",
   "execution_count": 28,
   "metadata": {},
   "outputs": [
    {
     "name": "stdout",
     "output_type": "stream",
     "text": [
      "['rain']\n"
     ]
    }
   ],
   "source": [
    "text = \"The rain in Spain\"\n",
    "pattern = \"r.in\"\n",
    "\n",
    "matches = re.findall(pattern, text)\n",
    "print(matches)"
   ]
  },
  {
   "cell_type": "markdown",
   "metadata": {},
   "source": [
    "3. Using quantifiers"
   ]
  },
  {
   "cell_type": "code",
   "execution_count": 29,
   "metadata": {},
   "outputs": [
    {
     "name": "stdout",
     "output_type": "stream",
     "text": [
      "['ai', 'ai', 'ai', 'ai', 'aix', 'aix']\n"
     ]
    }
   ],
   "source": [
    "text = \"The rain in Spain falls mainly in the plain -Faixius Raix\"\n",
    "# Finds all starting with \"ai\" and zero or more \"x\" after. So returns all matches of either ai or aix but not both for the same match.\n",
    "pattern = \"aix*\"\n",
    "\n",
    "matches = re.findall(pattern, text)\n",
    "print(matches)"
   ]
  },
  {
   "cell_type": "markdown",
   "metadata": {},
   "source": [
    "4. Character classes"
   ]
  },
  {
   "cell_type": "code",
   "execution_count": 30,
   "metadata": {},
   "outputs": [
    {
     "name": "stdout",
     "output_type": "stream",
     "text": [
      "['e', 'a', 'i', 'i', 'a', 'i', 'a', 'a', 'i', 'i', 'e', 'a', 'i']\n"
     ]
    }
   ],
   "source": [
    "text = \"The rain in Spain falls mainly in the plain\"\n",
    "pattern = \"[aeiou]\"\n",
    "\n",
    "matches = re.findall(pattern, text)\n",
    "print(matches)"
   ]
  },
  {
   "cell_type": "markdown",
   "metadata": {},
   "source": [
    "5. Email test if valid"
   ]
  },
  {
   "cell_type": "code",
   "execution_count": 31,
   "metadata": {},
   "outputs": [],
   "source": [
    "# start and ends with word boundary\n",
    "# begins with 1 or more alphanumeric or specified special chars: . _ % + -\n",
    "# Then @ in between\n",
    "# follows with the domain part: hotmail, gmail and so on. Accepts alphanumerics and . -\n",
    "# Followed by the TLD: .com .fi and so on. Accepts only alphabets, must be 2-7 alphabets in length\n",
    "\n",
    "regex = r'\\b[A-Za-z0-9._%+-]+@[A-Za-z0-9.-]+\\.[A-Za-z]{2,7}\\b'\n",
    "\n",
    "def check(email):\n",
    "\n",
    "    if(re.fullmatch(regex, email)):\n",
    "        print(\"Valid email\")\n",
    "    else:\n",
    "        print(\"Invalid email\")\n"
   ]
  },
  {
   "cell_type": "code",
   "execution_count": 32,
   "metadata": {},
   "outputs": [],
   "source": [
    "email_1 = \"virtasenville@hotmail.com\"\n",
    "\n",
    "email_2 = \"vvkvir@utu.fi\"\n",
    "\n",
    "email_3 = \"abrakadabra&@gmail.com\"\n",
    "\n",
    "email_4 = \"osteriossi@gmail.coooooooom\"\n",
    "\n",
    "email_5 = \"davidgoggins@hesburger/hespro.fi\"\n",
    "\n",
    "emails = [email_1, email_2, email_3,email_4, email_5]"
   ]
  },
  {
   "cell_type": "code",
   "execution_count": 33,
   "metadata": {},
   "outputs": [
    {
     "name": "stdout",
     "output_type": "stream",
     "text": [
      "Valid email\n",
      "Valid email\n",
      "Invalid email\n",
      "Invalid email\n",
      "Invalid email\n"
     ]
    }
   ],
   "source": [
    "for email in emails:\n",
    "    check(email)"
   ]
  }
 ],
 "metadata": {
  "kernelspec": {
   "display_name": "Python 3",
   "language": "python",
   "name": "python3"
  },
  "language_info": {
   "codemirror_mode": {
    "name": "ipython",
    "version": 3
   },
   "file_extension": ".py",
   "mimetype": "text/x-python",
   "name": "python",
   "nbconvert_exporter": "python",
   "pygments_lexer": "ipython3",
   "version": "3.10.10"
  },
  "orig_nbformat": 4
 },
 "nbformat": 4,
 "nbformat_minor": 2
}
