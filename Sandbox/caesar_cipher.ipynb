{
 "cells": [
  {
   "attachments": {},
   "cell_type": "markdown",
   "metadata": {},
   "source": [
    "# Caesar cipher"
   ]
  },
  {
   "cell_type": "code",
   "execution_count": 3,
   "metadata": {},
   "outputs": [],
   "source": [
    "def encrypt(text, num):\n",
    "    alphabet = 'abcdefghijklmnopqrstuvwxyz'\n",
    "    out_string = ''\n",
    "    text = text.lower()\n",
    "    for char in text:\n",
    "        if char not in alphabet:\n",
    "            out_string += char\n",
    "        else:\n",
    "            a_index = alphabet.find(char)\n",
    "            out_string += alphabet[(num+a_index)%26]\n",
    "    return out_string"
   ]
  },
  {
   "cell_type": "code",
   "execution_count": 6,
   "metadata": {},
   "outputs": [
    {
     "name": "stdout",
     "output_type": "stream",
     "text": [
      "txpfwn bfx mjwj\n"
     ]
    }
   ],
   "source": [
    "encrypted_msg = encrypt('Oskari was here', 5)\n",
    "print(encrypted_msg)\n"
   ]
  },
  {
   "cell_type": "code",
   "execution_count": 7,
   "metadata": {},
   "outputs": [],
   "source": [
    "def decrypt(text, num):\n",
    "    alphabet = 'abcdefghijklmnopqrstuvwxyz'\n",
    "    out_string = ''\n",
    "    text = text.lower()\n",
    "    for char in text:\n",
    "        if char not in alphabet:\n",
    "            out_string += char\n",
    "        else:\n",
    "            a_index = alphabet.find(char)\n",
    "            out_string += alphabet[(a_index-num)%26]\n",
    "    return out_string"
   ]
  },
  {
   "cell_type": "code",
   "execution_count": 8,
   "metadata": {},
   "outputs": [
    {
     "name": "stdout",
     "output_type": "stream",
     "text": [
      "oskari was here\n"
     ]
    }
   ],
   "source": [
    "decrypted_msg = decrypt(encrypted_msg, 5)\n",
    "print(decrypted_msg)"
   ]
  },
  {
   "attachments": {},
   "cell_type": "markdown",
   "metadata": {},
   "source": [
    "# Two sum"
   ]
  },
  {
   "attachments": {},
   "cell_type": "markdown",
   "metadata": {},
   "source": [
    "bruteforce"
   ]
  },
  {
   "cell_type": "code",
   "execution_count": 11,
   "metadata": {},
   "outputs": [],
   "source": [
    "def two_sum_brute(list, target):\n",
    "    indexes = []\n",
    "    for i in range(len(list)):\n",
    "        for j in range(len(list)):\n",
    "            if list[i] + list[j] == target:\n",
    "                indexes.append([i,j])"
   ]
  },
  {
   "attachments": {},
   "cell_type": "markdown",
   "metadata": {},
   "source": [
    "using dictionaries"
   ]
  },
  {
   "cell_type": "code",
   "execution_count": 12,
   "metadata": {},
   "outputs": [],
   "source": [
    "def two_sum_dict(list, target):\n",
    "    dict = {}\n",
    "    for i in range(len(list)):\n",
    "        if target - list[i] in dict.keys():\n",
    "            return [dict[target-list[i]], i]\n",
    "        dict[list[i]] = i\n",
    "    return -1"
   ]
  },
  {
   "cell_type": "code",
   "execution_count": 13,
   "metadata": {},
   "outputs": [
    {
     "name": "stdout",
     "output_type": "stream",
     "text": [
      "[2, 6]\n"
     ]
    }
   ],
   "source": [
    "list = [1,4,7,2,8,11,14,6,12,5,19,13]\n",
    "target = 21\n",
    "\n",
    "print(two_sum_dict(list,target))"
   ]
  },
  {
   "attachments": {},
   "cell_type": "markdown",
   "metadata": {},
   "source": [
    "# Card class"
   ]
  },
  {
   "cell_type": "code",
   "execution_count": 14,
   "metadata": {},
   "outputs": [],
   "source": [
    "class Card(object):\n",
    "\n",
    "    def __init__(self,value,suit):\n",
    "        self.value = value\n",
    "        self.suit = suit\n",
    "    \n",
    "    def display(self):\n",
    "        print(f'Suit: {self.suit}\\nValue: {self.value}')\n",
    "    "
   ]
  },
  {
   "cell_type": "code",
   "execution_count": 15,
   "metadata": {},
   "outputs": [
    {
     "name": "stdout",
     "output_type": "stream",
     "text": [
      "Suit: Spade\n",
      "Value: 13\n"
     ]
    }
   ],
   "source": [
    "card_1 = Card(13, 'Spade')\n",
    "card_1.display()"
   ]
  }
 ],
 "metadata": {
  "kernelspec": {
   "display_name": "Python 3",
   "language": "python",
   "name": "python3"
  },
  "language_info": {
   "codemirror_mode": {
    "name": "ipython",
    "version": 3
   },
   "file_extension": ".py",
   "mimetype": "text/x-python",
   "name": "python",
   "nbconvert_exporter": "python",
   "pygments_lexer": "ipython3",
   "version": "3.10.10"
  },
  "orig_nbformat": 4
 },
 "nbformat": 4,
 "nbformat_minor": 2
}
