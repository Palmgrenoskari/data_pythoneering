{
 "cells": [
  {
   "cell_type": "markdown",
   "metadata": {},
   "source": [
    "# Data split into training / test using sklearn train_test_split"
   ]
  },
  {
   "cell_type": "code",
   "execution_count": 27,
   "metadata": {},
   "outputs": [],
   "source": [
    "import numpy as np\n",
    "from sklearn.model_selection import train_test_split"
   ]
  },
  {
   "cell_type": "code",
   "execution_count": 28,
   "metadata": {},
   "outputs": [
    {
     "data": {
      "text/plain": [
       "array([  1,   2,   3,   4,   5,   6,   7,   8,   9,  10,  11,  12,  13,\n",
       "        14,  15,  16,  17,  18,  19,  20,  21,  22,  23,  24,  25,  26,\n",
       "        27,  28,  29,  30,  31,  32,  33,  34,  35,  36,  37,  38,  39,\n",
       "        40,  41,  42,  43,  44,  45,  46,  47,  48,  49,  50,  51,  52,\n",
       "        53,  54,  55,  56,  57,  58,  59,  60,  61,  62,  63,  64,  65,\n",
       "        66,  67,  68,  69,  70,  71,  72,  73,  74,  75,  76,  77,  78,\n",
       "        79,  80,  81,  82,  83,  84,  85,  86,  87,  88,  89,  90,  91,\n",
       "        92,  93,  94,  95,  96,  97,  98,  99, 100])"
      ]
     },
     "execution_count": 28,
     "metadata": {},
     "output_type": "execute_result"
    }
   ],
   "source": [
    "a = np.arange(1,101)\n",
    "a"
   ]
  },
  {
   "cell_type": "code",
   "execution_count": 29,
   "metadata": {},
   "outputs": [
    {
     "data": {
      "text/plain": [
       "array([ 901,  902,  903,  904,  905,  906,  907,  908,  909,  910,  911,\n",
       "        912,  913,  914,  915,  916,  917,  918,  919,  920,  921,  922,\n",
       "        923,  924,  925,  926,  927,  928,  929,  930,  931,  932,  933,\n",
       "        934,  935,  936,  937,  938,  939,  940,  941,  942,  943,  944,\n",
       "        945,  946,  947,  948,  949,  950,  951,  952,  953,  954,  955,\n",
       "        956,  957,  958,  959,  960,  961,  962,  963,  964,  965,  966,\n",
       "        967,  968,  969,  970,  971,  972,  973,  974,  975,  976,  977,\n",
       "        978,  979,  980,  981,  982,  983,  984,  985,  986,  987,  988,\n",
       "        989,  990,  991,  992,  993,  994,  995,  996,  997,  998,  999,\n",
       "       1000])"
      ]
     },
     "execution_count": 29,
     "metadata": {},
     "output_type": "execute_result"
    }
   ],
   "source": [
    "b = np.arange(901,1001)\n",
    "b"
   ]
  },
  {
   "cell_type": "code",
   "execution_count": 30,
   "metadata": {},
   "outputs": [
    {
     "data": {
      "text/plain": [
       "(array([ 16,  52,  10,  37,  27,  86,  50,  24,   3,  82,  70,  67,  26,\n",
       "          2,  72,  61,  95,  71,   8,  14,  84,  13,  18,  30,  62,  15,\n",
       "         43, 100,  89,  46,  55,  11,  48,  64,  51,  45,  68,   1,  83,\n",
       "         53,  19,  76,  96,  66,  94,  97,  81,  47,  25,  22,  77,   9,\n",
       "         78,  32,  98,  65,  40,  36,  54,  44,  56,  85,  42,  60,  34,\n",
       "         99,  92,  91,  49,  23,  35,  29,  28,  38,   6]),\n",
       " array([57, 87, 74, 33, 73,  5, 69, 41, 63, 93, 80, 58, 12, 90, 79, 75, 31,\n",
       "        88, 17, 39,  4, 59, 21,  7, 20]))"
      ]
     },
     "execution_count": 30,
     "metadata": {},
     "output_type": "execute_result"
    }
   ],
   "source": [
    "a_train, a_test = train_test_split(a)\n",
    "a_train, a_test"
   ]
  },
  {
   "cell_type": "code",
   "execution_count": 31,
   "metadata": {},
   "outputs": [
    {
     "data": {
      "text/plain": [
       "((75,), (25,))"
      ]
     },
     "execution_count": 31,
     "metadata": {},
     "output_type": "execute_result"
    }
   ],
   "source": [
    "# Default split: 75 - 25\n",
    "a_train.shape, a_test.shape"
   ]
  },
  {
   "cell_type": "code",
   "execution_count": 32,
   "metadata": {},
   "outputs": [
    {
     "data": {
      "text/plain": [
       "((60,), (40,))"
      ]
     },
     "execution_count": 32,
     "metadata": {},
     "output_type": "execute_result"
    }
   ],
   "source": [
    "# Choosing a split\n",
    "a_train, a_test = train_test_split(a, test_size=0.4)\n",
    "a_train.shape, a_test.shape"
   ]
  },
  {
   "cell_type": "code",
   "execution_count": 33,
   "metadata": {},
   "outputs": [
    {
     "data": {
      "text/plain": [
       "[array([ 1,  2,  3,  4,  5,  6,  7,  8,  9, 10, 11, 12, 13, 14, 15, 16, 17,\n",
       "        18, 19, 20, 21, 22, 23, 24, 25, 26, 27, 28, 29, 30, 31, 32, 33, 34,\n",
       "        35, 36, 37, 38, 39, 40, 41, 42, 43, 44, 45, 46, 47, 48, 49, 50, 51,\n",
       "        52, 53, 54, 55, 56, 57, 58, 59, 60, 61, 62, 63, 64, 65, 66, 67, 68,\n",
       "        69, 70, 71, 72, 73, 74, 75]),\n",
       " array([ 76,  77,  78,  79,  80,  81,  82,  83,  84,  85,  86,  87,  88,\n",
       "         89,  90,  91,  92,  93,  94,  95,  96,  97,  98,  99, 100])]"
      ]
     },
     "execution_count": 33,
     "metadata": {},
     "output_type": "execute_result"
    }
   ],
   "source": [
    "# Shuffle = False to turn off random order\n",
    "train_test_split(a, shuffle = False)\n"
   ]
  },
  {
   "cell_type": "code",
   "execution_count": 34,
   "metadata": {},
   "outputs": [
    {
     "name": "stdout",
     "output_type": "stream",
     "text": [
      "[84 54 71 46 45 40 23 81 11  1 19 31 74 34 91  5 77 78 13 32 56 89 27 43\n",
      " 70]\n",
      "[84 54 71 46 45 40 23 81 11  1 19 31 74 34 91  5 77 78 13 32 56 89 27 43\n",
      " 70]\n",
      "[84 54 71 46 45 40 23 81 11  1 19 31 74 34 91  5 77 78 13 32 56 89 27 43\n",
      " 70]\n",
      "[84 54 71 46 45 40 23 81 11  1 19 31 74 34 91  5 77 78 13 32 56 89 27 43\n",
      " 70]\n",
      "[84 54 71 46 45 40 23 81 11  1 19 31 74 34 91  5 77 78 13 32 56 89 27 43\n",
      " 70]\n"
     ]
    }
   ],
   "source": [
    "# random_state to get the same shuffle each time. Random_state = seed\n",
    "for i in range(5):\n",
    "    print(train_test_split(a, random_state=42)[1])"
   ]
  },
  {
   "cell_type": "code",
   "execution_count": 35,
   "metadata": {},
   "outputs": [],
   "source": [
    "# We can add b array in the same train_test_split \n",
    "a_train, a_test, b_train, b_test = train_test_split(a, b, test_size = 0.2, random_state=123)"
   ]
  },
  {
   "cell_type": "code",
   "execution_count": 36,
   "metadata": {},
   "outputs": [
    {
     "data": {
      "text/plain": [
       "(array([ 36,  89,  20,  30,  32,  92,  86,  10,  54,  42,  22,  91,  34,\n",
       "         70,  85,  88,  96,  98,  63,  13,  21,  90,  38,  60,   2,  75,\n",
       "         12,  80,  15,  55,  17,  27,  52,  46,   7,  99,  31,  45,  73,\n",
       "         44,  16,  95,  19,  14,  23,  11,  59,  72,  65,   4,  41,  35,\n",
       "         28,  53,   8,  49,  62,  94, 100,  40,   3,  68,  56,  50,  69,\n",
       "         81,  37,  79,  97,  26,  47,  33,  74,  48,  87,  58,  84,  18,\n",
       "         93,  67]),\n",
       " array([ 9, 71, 83, 29, 64,  1,  6, 51, 82,  5, 24, 66, 77, 61, 25, 43, 78,\n",
       "        39, 57, 76]),\n",
       " array([ 936,  989,  920,  930,  932,  992,  986,  910,  954,  942,  922,\n",
       "         991,  934,  970,  985,  988,  996,  998,  963,  913,  921,  990,\n",
       "         938,  960,  902,  975,  912,  980,  915,  955,  917,  927,  952,\n",
       "         946,  907,  999,  931,  945,  973,  944,  916,  995,  919,  914,\n",
       "         923,  911,  959,  972,  965,  904,  941,  935,  928,  953,  908,\n",
       "         949,  962,  994, 1000,  940,  903,  968,  956,  950,  969,  981,\n",
       "         937,  979,  997,  926,  947,  933,  974,  948,  987,  958,  984,\n",
       "         918,  993,  967]),\n",
       " array([909, 971, 983, 929, 964, 901, 906, 951, 982, 905, 924, 966, 977,\n",
       "        961, 925, 943, 978, 939, 957, 976]))"
      ]
     },
     "execution_count": 36,
     "metadata": {},
     "output_type": "execute_result"
    }
   ],
   "source": [
    "a_train, a_test, b_train, b_test"
   ]
  },
  {
   "cell_type": "markdown",
   "metadata": {},
   "source": [
    "* Note that the positions for a and b are the same!"
   ]
  },
  {
   "cell_type": "code",
   "execution_count": 37,
   "metadata": {},
   "outputs": [
    {
     "data": {
      "text/plain": [
       "(array([36, 89, 20, 30, 32]), array([936, 989, 920, 930, 932]))"
      ]
     },
     "execution_count": 37,
     "metadata": {},
     "output_type": "execute_result"
    }
   ],
   "source": [
    "a_train[:5], b_train[:5]"
   ]
  },
  {
   "cell_type": "code",
   "execution_count": 38,
   "metadata": {},
   "outputs": [
    {
     "data": {
      "text/plain": [
       "(array([64,  1,  6, 51, 82,  5, 24, 66]),\n",
       " array([964, 901, 906, 951, 982, 905, 924, 966]))"
      ]
     },
     "execution_count": 38,
     "metadata": {},
     "output_type": "execute_result"
    }
   ],
   "source": [
    "a_test[4:12], b_test[4:12]"
   ]
  }
 ],
 "metadata": {
  "kernelspec": {
   "display_name": "Python 3",
   "language": "python",
   "name": "python3"
  },
  "language_info": {
   "codemirror_mode": {
    "name": "ipython",
    "version": 3
   },
   "file_extension": ".py",
   "mimetype": "text/x-python",
   "name": "python",
   "nbconvert_exporter": "python",
   "pygments_lexer": "ipython3",
   "version": "3.10.10"
  },
  "orig_nbformat": 4
 },
 "nbformat": 4,
 "nbformat_minor": 2
}
