{
 "cells": [
  {
   "cell_type": "markdown",
   "metadata": {},
   "source": [
    "# Minimal example with Tensorflow 2.0"
   ]
  },
  {
   "cell_type": "markdown",
   "metadata": {},
   "source": [
    "##### Imports"
   ]
  },
  {
   "cell_type": "code",
   "execution_count": 17,
   "metadata": {},
   "outputs": [],
   "source": [
    "import numpy as np\n",
    "import matplotlib.pyplot as plt\n",
    "import tensorflow as tf"
   ]
  },
  {
   "cell_type": "markdown",
   "metadata": {},
   "source": [
    "###"
   ]
  },
  {
   "cell_type": "markdown",
   "metadata": {},
   "source": [
    "##### Generating random data"
   ]
  },
  {
   "cell_type": "code",
   "execution_count": 18,
   "metadata": {},
   "outputs": [],
   "source": [
    "obs = 1000\n",
    "\n",
    "# From uniform distribution, low -10, high 10, generate 1000,1 matrix\n",
    "x = np.random.uniform(low=-10, high=10, size=(obs, 1))\n",
    "z = np.random.uniform(low=-10, high=10, size=(obs, 1))\n",
    "\n",
    "# 2x 1000,1 matrices into 1000,2 matrix\n",
    "generated_inputs = np.column_stack((x,z))"
   ]
  },
  {
   "cell_type": "code",
   "execution_count": 19,
   "metadata": {},
   "outputs": [
    {
     "data": {
      "text/plain": [
       "(1000, 2)"
      ]
     },
     "execution_count": 19,
     "metadata": {},
     "output_type": "execute_result"
    }
   ],
   "source": [
    "generated_inputs.shape"
   ]
  },
  {
   "cell_type": "code",
   "execution_count": 20,
   "metadata": {},
   "outputs": [
    {
     "data": {
      "text/plain": [
       "array([[-0.36471937],\n",
       "       [ 0.20571295],\n",
       "       [-0.87580524],\n",
       "       [ 0.23667766],\n",
       "       [ 0.93961061]])"
      ]
     },
     "execution_count": 20,
     "metadata": {},
     "output_type": "execute_result"
    }
   ],
   "source": [
    "# Add in noise, 1000,1 matrix\n",
    "noise = np.random.uniform(-1,1, (obs,1))\n",
    "noise[:5]\n"
   ]
  },
  {
   "cell_type": "code",
   "execution_count": 21,
   "metadata": {},
   "outputs": [],
   "source": [
    "# Our target\n",
    "generated_targets = 2*x - 3*z + 5 + noise\n",
    "\n",
    "# Tensor-friendly fileformat .npz\n",
    "# Stores n-dim arrays\n",
    "np.savez('npz/TF_intro',\n",
    "         inputs=generated_inputs,\n",
    "         targets=generated_targets)\n"
   ]
  },
  {
   "cell_type": "markdown",
   "metadata": {},
   "source": [
    "## Solving with TF2"
   ]
  },
  {
   "cell_type": "code",
   "execution_count": 22,
   "metadata": {},
   "outputs": [],
   "source": [
    "training_data = np.load('npz/TF_intro.npz')"
   ]
  },
  {
   "cell_type": "code",
   "execution_count": 23,
   "metadata": {},
   "outputs": [],
   "source": [
    "# x and z\n",
    "input_size = 2\n",
    "# y\n",
    "output_size = 1"
   ]
  },
  {
   "cell_type": "markdown",
   "metadata": {},
   "source": [
    "##### Build the model"
   ]
  },
  {
   "cell_type": "code",
   "execution_count": 24,
   "metadata": {},
   "outputs": [],
   "source": [
    "model = tf.keras.Sequential([\n",
    "    # Takes the inputs - calculates dot product + bias\n",
    "    tf.keras.layers.Dense(output_size)\n",
    "])"
   ]
  },
  {
   "cell_type": "code",
   "execution_count": 25,
   "metadata": {},
   "outputs": [],
   "source": [
    "# Loss = Mean_squared_error = Objective Function\n",
    "# Optimizer = Stochastic Gradient Descent = Optimization Algorithm\n",
    "model.compile(optimizer='SGD', loss='mean_squared_error')"
   ]
  },
  {
   "cell_type": "code",
   "execution_count": 26,
   "metadata": {},
   "outputs": [
    {
     "name": "stdout",
     "output_type": "stream",
     "text": [
      "Epoch 1/30\n"
     ]
    },
    {
     "name": "stdout",
     "output_type": "stream",
     "text": [
      "32/32 [==============================] - 0s 639us/step - loss: 40.8081\n",
      "Epoch 2/30\n",
      "32/32 [==============================] - 0s 635us/step - loss: 4.2809\n",
      "Epoch 3/30\n",
      "32/32 [==============================] - 0s 618us/step - loss: 1.4785\n",
      "Epoch 4/30\n",
      "32/32 [==============================] - 0s 584us/step - loss: 0.6485\n",
      "Epoch 5/30\n",
      "32/32 [==============================] - 0s 577us/step - loss: 0.4359\n",
      "Epoch 6/30\n",
      "32/32 [==============================] - 0s 603us/step - loss: 0.3742\n",
      "Epoch 7/30\n",
      "32/32 [==============================] - 0s 607us/step - loss: 0.3605\n",
      "Epoch 8/30\n",
      "32/32 [==============================] - 0s 566us/step - loss: 0.3468\n",
      "Epoch 9/30\n",
      "32/32 [==============================] - 0s 681us/step - loss: 0.3437\n",
      "Epoch 10/30\n",
      "32/32 [==============================] - 0s 559us/step - loss: 0.3431\n",
      "Epoch 11/30\n",
      "32/32 [==============================] - 0s 572us/step - loss: 0.3459\n",
      "Epoch 12/30\n",
      "32/32 [==============================] - 0s 649us/step - loss: 0.3448\n",
      "Epoch 13/30\n",
      "32/32 [==============================] - 0s 597us/step - loss: 0.3440\n",
      "Epoch 14/30\n",
      "32/32 [==============================] - 0s 606us/step - loss: 0.3413\n",
      "Epoch 15/30\n",
      "32/32 [==============================] - 0s 584us/step - loss: 0.3441\n",
      "Epoch 16/30\n",
      "32/32 [==============================] - 0s 682us/step - loss: 0.3467\n",
      "Epoch 17/30\n",
      "32/32 [==============================] - 0s 601us/step - loss: 0.3519\n",
      "Epoch 18/30\n",
      "32/32 [==============================] - 0s 615us/step - loss: 0.3451\n",
      "Epoch 19/30\n",
      "32/32 [==============================] - 0s 616us/step - loss: 0.3398\n",
      "Epoch 20/30\n",
      "32/32 [==============================] - 0s 599us/step - loss: 0.3477\n",
      "Epoch 21/30\n",
      "32/32 [==============================] - 0s 599us/step - loss: 0.3503\n",
      "Epoch 22/30\n",
      "32/32 [==============================] - 0s 576us/step - loss: 0.3515\n",
      "Epoch 23/30\n",
      "32/32 [==============================] - 0s 629us/step - loss: 0.3482\n",
      "Epoch 24/30\n",
      "32/32 [==============================] - 0s 606us/step - loss: 0.3487\n",
      "Epoch 25/30\n",
      "32/32 [==============================] - 0s 600us/step - loss: 0.3434\n",
      "Epoch 26/30\n",
      "32/32 [==============================] - 0s 639us/step - loss: 0.3511\n",
      "Epoch 27/30\n",
      "32/32 [==============================] - 0s 632us/step - loss: 0.3505\n",
      "Epoch 28/30\n",
      "32/32 [==============================] - 0s 610us/step - loss: 0.3427\n",
      "Epoch 29/30\n",
      "32/32 [==============================] - 0s 586us/step - loss: 0.3529\n",
      "Epoch 30/30\n",
      "32/32 [==============================] - 0s 584us/step - loss: 0.3440\n"
     ]
    },
    {
     "data": {
      "text/plain": [
       "<keras.src.callbacks.History at 0x299555b1960>"
      ]
     },
     "execution_count": 26,
     "metadata": {},
     "output_type": "execute_result"
    }
   ],
   "source": [
    "# Fitting the model\n",
    "model.fit(training_data['inputs'],\n",
    "          training_data['targets'],\n",
    "          epochs=30,\n",
    "          verbose=1)"
   ]
  },
  {
   "attachments": {
    "image.png": {
     "image/png": "[encoded data removed]"
    }
   },
   "cell_type": "markdown",
   "metadata": {},
   "source": [
    "## Extracting the weights and biases\n",
    "\n",
    "* We are looking for 2, -3 for weights and 5 for bias\n",
    "\n",
    "![image.png](attachment:image.png)"
   ]
  },
  {
   "cell_type": "code",
   "execution_count": 27,
   "metadata": {},
   "outputs": [
    {
     "data": {
      "text/plain": [
       "[array([[ 1.9981382],\n",
       "        [-3.047539 ]], dtype=float32),\n",
       " array([4.946428], dtype=float32)]"
      ]
     },
     "execution_count": 27,
     "metadata": {},
     "output_type": "execute_result"
    }
   ],
   "source": [
    "# Weights for the Dense layer in our model\n",
    "model.layers[0].get_weights()"
   ]
  },
  {
   "cell_type": "markdown",
   "metadata": {},
   "source": [
    "* Weights: 1.998, -3.048\n",
    "* Bias: 4.946\n",
    "\n",
    "Close enough!"
   ]
  },
  {
   "cell_type": "markdown",
   "metadata": {},
   "source": [
    "## Predictions\n",
    "\n",
    "* We can just compare our first 10 inputs to our first 10 targets"
   ]
  },
  {
   "cell_type": "code",
   "execution_count": 28,
   "metadata": {},
   "outputs": [
    {
     "data": {
      "text/plain": [
       "array([[ 17.3],\n",
       "       [  7.7],\n",
       "       [-14.3],\n",
       "       [ 21.9],\n",
       "       [ 33.2],\n",
       "       [ -3.1],\n",
       "       [ 12.6],\n",
       "       [  1.4],\n",
       "       [ 11.7],\n",
       "       [-18.3]], dtype=float32)"
      ]
     },
     "execution_count": 28,
     "metadata": {},
     "output_type": "execute_result"
    }
   ],
   "source": [
    "model.predict_on_batch(training_data['inputs']).round(1)[:10]"
   ]
  },
  {
   "cell_type": "code",
   "execution_count": 29,
   "metadata": {},
   "outputs": [
    {
     "data": {
      "text/plain": [
       "array([[ 16.7],\n",
       "       [  8. ],\n",
       "       [-14.7],\n",
       "       [ 22.1],\n",
       "       [ 33.9],\n",
       "       [ -3.7],\n",
       "       [ 11.8],\n",
       "       [  2.4],\n",
       "       [ 11.5],\n",
       "       [-17.5]])"
      ]
     },
     "execution_count": 29,
     "metadata": {},
     "output_type": "execute_result"
    }
   ],
   "source": [
    "training_data['targets'].round(1)[:10]"
   ]
  },
  {
   "cell_type": "markdown",
   "metadata": {},
   "source": [
    "## Plotting output vs target"
   ]
  },
  {
   "cell_type": "code",
   "execution_count": 31,
   "metadata": {},
   "outputs": [
    {
     "data": {
      "image/png": "[encoded data removed]",
      "text/plain": [
       "<Figure size 640x480 with 1 Axes>"
      ]
     },
     "metadata": {},
     "output_type": "display_data"
    }
   ],
   "source": [
    "# Use np.squeeze to get rid of 2D\n",
    "plt.plot(np.squeeze(model.predict_on_batch(training_data['inputs'])), np.squeeze(training_data['targets']))\n",
    "plt.xlabel('Outputs')\n",
    "plt.ylabel('Targets')\n",
    "plt.show()"
   ]
  },
  {
   "cell_type": "markdown",
   "metadata": {},
   "source": [
    "## Looks good to me!"
   ]
  }
 ],
 "metadata": {
  "kernelspec": {
   "display_name": "Python 3",
   "language": "python",
   "name": "python3"
  },
  "language_info": {
   "codemirror_mode": {
    "name": "ipython",
    "version": 3
   },
   "file_extension": ".py",
   "mimetype": "text/x-python",
   "name": "python",
   "nbconvert_exporter": "python",
   "pygments_lexer": "ipython3",
   "version": "3.10.10"
  },
  "orig_nbformat": 4
 },
 "nbformat": 4,
 "nbformat_minor": 2
}
